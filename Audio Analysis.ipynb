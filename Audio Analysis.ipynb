{
 "cells": [
  {
   "cell_type": "code",
   "execution_count": 2,
   "metadata": {
    "collapsed": true,
    "pycharm": {
     "name": "#%%\n"
    }
   },
   "outputs": [
    {
     "data": {
      "application/javascript": "(function(root) {\n  function now() {\n    return new Date();\n  }\n\n  var force = true;\n\n  if (typeof root._bokeh_onload_callbacks === \"undefined\" || force === true) {\n    root._bokeh_onload_callbacks = [];\n    root._bokeh_is_loading = undefined;\n  }\n\n  if (typeof (root._bokeh_timeout) === \"undefined\" || force === true) {\n    root._bokeh_timeout = Date.now() + 5000;\n    root._bokeh_failed_load = false;\n  }\n\n  function run_callbacks() {\n    try {\n      root._bokeh_onload_callbacks.forEach(function(callback) {\n        if (callback != null)\n          callback();\n      });\n    } finally {\n      delete root._bokeh_onload_callbacks\n    }\n    console.debug(\"Bokeh: all callbacks have finished\");\n  }\n\n  function load_libs(css_urls, js_urls, js_modules, callback) {\n    if (css_urls == null) css_urls = [];\n    if (js_urls == null) js_urls = [];\n    if (js_modules == null) js_modules = [];\n\n    root._bokeh_onload_callbacks.push(callback);\n    if (root._bokeh_is_loading > 0) {\n      console.debug(\"Bokeh: BokehJS is being loaded, scheduling callback at\", now());\n      return null;\n    }\n    if (js_urls.length === 0 && js_modules.length === 0) {\n      run_callbacks();\n      return null;\n    }\n    console.debug(\"Bokeh: BokehJS not loaded, scheduling load and callback at\", now());\n\n    function on_load() {\n      root._bokeh_is_loading--;\n      if (root._bokeh_is_loading === 0) {\n        console.debug(\"Bokeh: all BokehJS libraries/stylesheets loaded\");\n        run_callbacks()\n      }\n    }\n\n    function on_error() {\n      console.error(\"failed to load \" + url);\n    }\n\n    for (var i = 0; i < css_urls.length; i++) {\n      var url = css_urls[i];\n      const element = document.createElement(\"link\");\n      element.onload = on_load;\n      element.onerror = on_error;\n      element.rel = \"stylesheet\";\n      element.type = \"text/css\";\n      element.href = url;\n      console.debug(\"Bokeh: injecting link tag for BokehJS stylesheet: \", url);\n      document.body.appendChild(element);\n    }\n\n    var skip = [];\n    if (window.requirejs) {\n      window.requirejs.config({'packages': {}, 'paths': {'gridstack': 'https://cdn.jsdelivr.net/npm/gridstack@4.2.5/dist/gridstack-h5', 'notyf': 'https://cdn.jsdelivr.net/npm/notyf@3/notyf.min'}, 'shim': {'gridstack': {'exports': 'GridStack'}}});\n      require([\"gridstack\"], function(GridStack) {\n\twindow.GridStack = GridStack\n\ton_load()\n      })\n      require([\"notyf\"], function() {\n\ton_load()\n      })\n      root._bokeh_is_loading = css_urls.length + 2;\n    } else {\n      root._bokeh_is_loading = css_urls.length + js_urls.length + js_modules.length;\n    }    if (((window['GridStack'] !== undefined) && (!(window['GridStack'] instanceof HTMLElement))) || window.requirejs) {\n      var urls = ['https://cdn.jsdelivr.net/npm/gridstack@4.2.5/dist/gridstack-h5.js'];\n      for (var i = 0; i < urls.length; i++) {\n        skip.push(urls[i])\n      }\n    }    if (((window['Notyf'] !== undefined) && (!(window['Notyf'] instanceof HTMLElement))) || window.requirejs) {\n      var urls = ['https://cdn.jsdelivr.net/npm/notyf@3/notyf.min.js'];\n      for (var i = 0; i < urls.length; i++) {\n        skip.push(urls[i])\n      }\n    }    for (var i = 0; i < js_urls.length; i++) {\n      var url = js_urls[i];\n      if (skip.indexOf(url) >= 0) {\n\tif (!window.requirejs) {\n\t  on_load();\n\t}\n\tcontinue;\n      }\n      var element = document.createElement('script');\n      element.onload = on_load;\n      element.onerror = on_error;\n      element.async = false;\n      element.src = url;\n      console.debug(\"Bokeh: injecting script tag for BokehJS library: \", url);\n      document.head.appendChild(element);\n    }\n    for (var i = 0; i < js_modules.length; i++) {\n      var url = js_modules[i];\n      if (skip.indexOf(url) >= 0) {\n\tif (!window.requirejs) {\n\t  on_load();\n\t}\n\tcontinue;\n      }\n      var element = document.createElement('script');\n      element.onload = on_load;\n      element.onerror = on_error;\n      element.async = false;\n      element.src = url;\n      element.type = \"module\";\n      console.debug(\"Bokeh: injecting script tag for BokehJS library: \", url);\n      document.head.appendChild(element);\n    }\n    if (!js_urls.length && !js_modules.length) {\n      on_load()\n    }\n  };\n\n  function inject_raw_css(css) {\n    const element = document.createElement(\"style\");\n    element.appendChild(document.createTextNode(css));\n    document.body.appendChild(element);\n  }\n\n  var js_urls = [\"https://cdn.bokeh.org/bokeh/release/bokeh-2.4.3.min.js\", \"https://cdn.bokeh.org/bokeh/release/bokeh-gl-2.4.3.min.js\", \"https://cdn.bokeh.org/bokeh/release/bokeh-widgets-2.4.3.min.js\", \"https://cdn.bokeh.org/bokeh/release/bokeh-tables-2.4.3.min.js\", \"https://cdn.bokeh.org/bokeh/release/bokeh-mathjax-2.4.3.min.js\", \"https://cdn.jsdelivr.net/npm/notyf@3/notyf.min.js\", \"https://unpkg.com/@holoviz/panel@0.13.1/dist/panel.min.js\"];\n  var js_modules = [];\n  var css_urls = [\"https://cdn.jsdelivr.net/npm/notyf@3/notyf.min.css\", \"https://cdnjs.cloudflare.com/ajax/libs/font-awesome/5.15.1/css/all.min.css\", \"https://unpkg.com/@holoviz/panel@0.13.1/dist/css/alerts.css\", \"https://unpkg.com/@holoviz/panel@0.13.1/dist/css/card.css\", \"https://unpkg.com/@holoviz/panel@0.13.1/dist/css/dataframe.css\", \"https://unpkg.com/@holoviz/panel@0.13.1/dist/css/debugger.css\", \"https://unpkg.com/@holoviz/panel@0.13.1/dist/css/json.css\", \"https://unpkg.com/@holoviz/panel@0.13.1/dist/css/loading.css\", \"https://unpkg.com/@holoviz/panel@0.13.1/dist/css/markdown.css\", \"https://unpkg.com/@holoviz/panel@0.13.1/dist/css/widgets.css\"];\n  var inline_js = [    function(Bokeh) {\n      inject_raw_css(\"\\n    .bk.pn-loading.arcs:before {\\n      background-image: url(\\\"data:image/svg+xml;base64,PHN2ZyB4bWxucz0iaHR0cDovL3d3dy53My5vcmcvMjAwMC9zdmciIHhtbG5zOnhsaW5rPSJodHRwOi8vd3d3LnczLm9yZy8xOTk5L3hsaW5rIiBzdHlsZT0ibWFyZ2luOiBhdXRvOyBiYWNrZ3JvdW5kOiBub25lOyBkaXNwbGF5OiBibG9jazsgc2hhcGUtcmVuZGVyaW5nOiBhdXRvOyIgdmlld0JveD0iMCAwIDEwMCAxMDAiIHByZXNlcnZlQXNwZWN0UmF0aW89InhNaWRZTWlkIj4gIDxjaXJjbGUgY3g9IjUwIiBjeT0iNTAiIHI9IjMyIiBzdHJva2Utd2lkdGg9IjgiIHN0cm9rZT0iI2MzYzNjMyIgc3Ryb2tlLWRhc2hhcnJheT0iNTAuMjY1NDgyNDU3NDM2NjkgNTAuMjY1NDgyNDU3NDM2NjkiIGZpbGw9Im5vbmUiIHN0cm9rZS1saW5lY2FwPSJyb3VuZCI+ICAgIDxhbmltYXRlVHJhbnNmb3JtIGF0dHJpYnV0ZU5hbWU9InRyYW5zZm9ybSIgdHlwZT0icm90YXRlIiByZXBlYXRDb3VudD0iaW5kZWZpbml0ZSIgZHVyPSIxcyIga2V5VGltZXM9IjA7MSIgdmFsdWVzPSIwIDUwIDUwOzM2MCA1MCA1MCI+PC9hbmltYXRlVHJhbnNmb3JtPiAgPC9jaXJjbGU+PC9zdmc+\\\");\\n      background-size: auto calc(min(50%, 400px));\\n    }\\n    \");\n    },    function(Bokeh) {\n      Bokeh.set_log_level(\"info\");\n    },\nfunction(Bokeh) {} // ensure no trailing comma for IE\n  ];\n\n  function run_inline_js() {\n    if ((root.Bokeh !== undefined) || (force === true)) {\n      for (var i = 0; i < inline_js.length; i++) {\n        inline_js[i].call(root, root.Bokeh);\n      }} else if (Date.now() < root._bokeh_timeout) {\n      setTimeout(run_inline_js, 100);\n    } else if (!root._bokeh_failed_load) {\n      console.log(\"Bokeh: BokehJS failed to load within specified timeout.\");\n      root._bokeh_failed_load = true;\n    }\n  }\n\n  if (root._bokeh_is_loading === 0) {\n    console.debug(\"Bokeh: BokehJS loaded, going straight to plotting\");\n    run_inline_js();\n  } else {\n    load_libs(css_urls, js_urls, js_modules, function() {\n      console.debug(\"Bokeh: BokehJS plotting callback run at\", now());\n      run_inline_js();\n    });\n  }\n}(window));",
      "application/vnd.holoviews_load.v0+json": "(function(root) {\n  function now() {\n    return new Date();\n  }\n\n  var force = true;\n\n  if (typeof root._bokeh_onload_callbacks === \"undefined\" || force === true) {\n    root._bokeh_onload_callbacks = [];\n    root._bokeh_is_loading = undefined;\n  }\n\n  if (typeof (root._bokeh_timeout) === \"undefined\" || force === true) {\n    root._bokeh_timeout = Date.now() + 5000;\n    root._bokeh_failed_load = false;\n  }\n\n  function run_callbacks() {\n    try {\n      root._bokeh_onload_callbacks.forEach(function(callback) {\n        if (callback != null)\n          callback();\n      });\n    } finally {\n      delete root._bokeh_onload_callbacks\n    }\n    console.debug(\"Bokeh: all callbacks have finished\");\n  }\n\n  function load_libs(css_urls, js_urls, js_modules, callback) {\n    if (css_urls == null) css_urls = [];\n    if (js_urls == null) js_urls = [];\n    if (js_modules == null) js_modules = [];\n\n    root._bokeh_onload_callbacks.push(callback);\n    if (root._bokeh_is_loading > 0) {\n      console.debug(\"Bokeh: BokehJS is being loaded, scheduling callback at\", now());\n      return null;\n    }\n    if (js_urls.length === 0 && js_modules.length === 0) {\n      run_callbacks();\n      return null;\n    }\n    console.debug(\"Bokeh: BokehJS not loaded, scheduling load and callback at\", now());\n\n    function on_load() {\n      root._bokeh_is_loading--;\n      if (root._bokeh_is_loading === 0) {\n        console.debug(\"Bokeh: all BokehJS libraries/stylesheets loaded\");\n        run_callbacks()\n      }\n    }\n\n    function on_error() {\n      console.error(\"failed to load \" + url);\n    }\n\n    for (var i = 0; i < css_urls.length; i++) {\n      var url = css_urls[i];\n      const element = document.createElement(\"link\");\n      element.onload = on_load;\n      element.onerror = on_error;\n      element.rel = \"stylesheet\";\n      element.type = \"text/css\";\n      element.href = url;\n      console.debug(\"Bokeh: injecting link tag for BokehJS stylesheet: \", url);\n      document.body.appendChild(element);\n    }\n\n    var skip = [];\n    if (window.requirejs) {\n      window.requirejs.config({'packages': {}, 'paths': {'gridstack': 'https://cdn.jsdelivr.net/npm/gridstack@4.2.5/dist/gridstack-h5', 'notyf': 'https://cdn.jsdelivr.net/npm/notyf@3/notyf.min'}, 'shim': {'gridstack': {'exports': 'GridStack'}}});\n      require([\"gridstack\"], function(GridStack) {\n\twindow.GridStack = GridStack\n\ton_load()\n      })\n      require([\"notyf\"], function() {\n\ton_load()\n      })\n      root._bokeh_is_loading = css_urls.length + 2;\n    } else {\n      root._bokeh_is_loading = css_urls.length + js_urls.length + js_modules.length;\n    }    if (((window['GridStack'] !== undefined) && (!(window['GridStack'] instanceof HTMLElement))) || window.requirejs) {\n      var urls = ['https://cdn.jsdelivr.net/npm/gridstack@4.2.5/dist/gridstack-h5.js'];\n      for (var i = 0; i < urls.length; i++) {\n        skip.push(urls[i])\n      }\n    }    if (((window['Notyf'] !== undefined) && (!(window['Notyf'] instanceof HTMLElement))) || window.requirejs) {\n      var urls = ['https://cdn.jsdelivr.net/npm/notyf@3/notyf.min.js'];\n      for (var i = 0; i < urls.length; i++) {\n        skip.push(urls[i])\n      }\n    }    for (var i = 0; i < js_urls.length; i++) {\n      var url = js_urls[i];\n      if (skip.indexOf(url) >= 0) {\n\tif (!window.requirejs) {\n\t  on_load();\n\t}\n\tcontinue;\n      }\n      var element = document.createElement('script');\n      element.onload = on_load;\n      element.onerror = on_error;\n      element.async = false;\n      element.src = url;\n      console.debug(\"Bokeh: injecting script tag for BokehJS library: \", url);\n      document.head.appendChild(element);\n    }\n    for (var i = 0; i < js_modules.length; i++) {\n      var url = js_modules[i];\n      if (skip.indexOf(url) >= 0) {\n\tif (!window.requirejs) {\n\t  on_load();\n\t}\n\tcontinue;\n      }\n      var element = document.createElement('script');\n      element.onload = on_load;\n      element.onerror = on_error;\n      element.async = false;\n      element.src = url;\n      element.type = \"module\";\n      console.debug(\"Bokeh: injecting script tag for BokehJS library: \", url);\n      document.head.appendChild(element);\n    }\n    if (!js_urls.length && !js_modules.length) {\n      on_load()\n    }\n  };\n\n  function inject_raw_css(css) {\n    const element = document.createElement(\"style\");\n    element.appendChild(document.createTextNode(css));\n    document.body.appendChild(element);\n  }\n\n  var js_urls = [\"https://cdn.bokeh.org/bokeh/release/bokeh-2.4.3.min.js\", \"https://cdn.bokeh.org/bokeh/release/bokeh-gl-2.4.3.min.js\", \"https://cdn.bokeh.org/bokeh/release/bokeh-widgets-2.4.3.min.js\", \"https://cdn.bokeh.org/bokeh/release/bokeh-tables-2.4.3.min.js\", \"https://cdn.bokeh.org/bokeh/release/bokeh-mathjax-2.4.3.min.js\", \"https://cdn.jsdelivr.net/npm/notyf@3/notyf.min.js\", \"https://unpkg.com/@holoviz/panel@0.13.1/dist/panel.min.js\"];\n  var js_modules = [];\n  var css_urls = [\"https://cdn.jsdelivr.net/npm/notyf@3/notyf.min.css\", \"https://cdnjs.cloudflare.com/ajax/libs/font-awesome/5.15.1/css/all.min.css\", \"https://unpkg.com/@holoviz/panel@0.13.1/dist/css/alerts.css\", \"https://unpkg.com/@holoviz/panel@0.13.1/dist/css/card.css\", \"https://unpkg.com/@holoviz/panel@0.13.1/dist/css/dataframe.css\", \"https://unpkg.com/@holoviz/panel@0.13.1/dist/css/debugger.css\", \"https://unpkg.com/@holoviz/panel@0.13.1/dist/css/json.css\", \"https://unpkg.com/@holoviz/panel@0.13.1/dist/css/loading.css\", \"https://unpkg.com/@holoviz/panel@0.13.1/dist/css/markdown.css\", \"https://unpkg.com/@holoviz/panel@0.13.1/dist/css/widgets.css\"];\n  var inline_js = [    function(Bokeh) {\n      inject_raw_css(\"\\n    .bk.pn-loading.arcs:before {\\n      background-image: url(\\\"data:image/svg+xml;base64,PHN2ZyB4bWxucz0iaHR0cDovL3d3dy53My5vcmcvMjAwMC9zdmciIHhtbG5zOnhsaW5rPSJodHRwOi8vd3d3LnczLm9yZy8xOTk5L3hsaW5rIiBzdHlsZT0ibWFyZ2luOiBhdXRvOyBiYWNrZ3JvdW5kOiBub25lOyBkaXNwbGF5OiBibG9jazsgc2hhcGUtcmVuZGVyaW5nOiBhdXRvOyIgdmlld0JveD0iMCAwIDEwMCAxMDAiIHByZXNlcnZlQXNwZWN0UmF0aW89InhNaWRZTWlkIj4gIDxjaXJjbGUgY3g9IjUwIiBjeT0iNTAiIHI9IjMyIiBzdHJva2Utd2lkdGg9IjgiIHN0cm9rZT0iI2MzYzNjMyIgc3Ryb2tlLWRhc2hhcnJheT0iNTAuMjY1NDgyNDU3NDM2NjkgNTAuMjY1NDgyNDU3NDM2NjkiIGZpbGw9Im5vbmUiIHN0cm9rZS1saW5lY2FwPSJyb3VuZCI+ICAgIDxhbmltYXRlVHJhbnNmb3JtIGF0dHJpYnV0ZU5hbWU9InRyYW5zZm9ybSIgdHlwZT0icm90YXRlIiByZXBlYXRDb3VudD0iaW5kZWZpbml0ZSIgZHVyPSIxcyIga2V5VGltZXM9IjA7MSIgdmFsdWVzPSIwIDUwIDUwOzM2MCA1MCA1MCI+PC9hbmltYXRlVHJhbnNmb3JtPiAgPC9jaXJjbGU+PC9zdmc+\\\");\\n      background-size: auto calc(min(50%, 400px));\\n    }\\n    \");\n    },    function(Bokeh) {\n      Bokeh.set_log_level(\"info\");\n    },\nfunction(Bokeh) {} // ensure no trailing comma for IE\n  ];\n\n  function run_inline_js() {\n    if ((root.Bokeh !== undefined) || (force === true)) {\n      for (var i = 0; i < inline_js.length; i++) {\n        inline_js[i].call(root, root.Bokeh);\n      }} else if (Date.now() < root._bokeh_timeout) {\n      setTimeout(run_inline_js, 100);\n    } else if (!root._bokeh_failed_load) {\n      console.log(\"Bokeh: BokehJS failed to load within specified timeout.\");\n      root._bokeh_failed_load = true;\n    }\n  }\n\n  if (root._bokeh_is_loading === 0) {\n    console.debug(\"Bokeh: BokehJS loaded, going straight to plotting\");\n    run_inline_js();\n  } else {\n    load_libs(css_urls, js_urls, js_modules, function() {\n      console.debug(\"Bokeh: BokehJS plotting callback run at\", now());\n      run_inline_js();\n    });\n  }\n}(window));"
     },
     "metadata": {},
     "output_type": "display_data"
    },
    {
     "data": {
      "application/vnd.holoviews_load.v0+json": "\nif ((window.PyViz === undefined) || (window.PyViz instanceof HTMLElement)) {\n  window.PyViz = {comms: {}, comm_status:{}, kernels:{}, receivers: {}, plot_index: []}\n}\n\n\n    function JupyterCommManager() {\n    }\n\n    JupyterCommManager.prototype.register_target = function(plot_id, comm_id, msg_handler) {\n      if (window.comm_manager || ((window.Jupyter !== undefined) && (Jupyter.notebook.kernel != null))) {\n        var comm_manager = window.comm_manager || Jupyter.notebook.kernel.comm_manager;\n        comm_manager.register_target(comm_id, function(comm) {\n          comm.on_msg(msg_handler);\n        });\n      } else if ((plot_id in window.PyViz.kernels) && (window.PyViz.kernels[plot_id])) {\n        window.PyViz.kernels[plot_id].registerCommTarget(comm_id, function(comm) {\n          comm.onMsg = msg_handler;\n        });\n      } else if (typeof google != 'undefined' && google.colab.kernel != null) {\n        google.colab.kernel.comms.registerTarget(comm_id, (comm) => {\n          var messages = comm.messages[Symbol.asyncIterator]();\n          function processIteratorResult(result) {\n            var message = result.value;\n            console.log(message)\n            var content = {data: message.data, comm_id};\n            var buffers = []\n            for (var buffer of message.buffers || []) {\n              buffers.push(new DataView(buffer))\n            }\n            var metadata = message.metadata || {};\n            var msg = {content, buffers, metadata}\n            msg_handler(msg);\n            return messages.next().then(processIteratorResult);\n          }\n          return messages.next().then(processIteratorResult);\n        })\n      }\n    }\n\n    JupyterCommManager.prototype.get_client_comm = function(plot_id, comm_id, msg_handler) {\n      if (comm_id in window.PyViz.comms) {\n        return window.PyViz.comms[comm_id];\n      } else if (window.comm_manager || ((window.Jupyter !== undefined) && (Jupyter.notebook.kernel != null))) {\n        var comm_manager = window.comm_manager || Jupyter.notebook.kernel.comm_manager;\n        var comm = comm_manager.new_comm(comm_id, {}, {}, {}, comm_id);\n        if (msg_handler) {\n          comm.on_msg(msg_handler);\n        }\n      } else if ((plot_id in window.PyViz.kernels) && (window.PyViz.kernels[plot_id])) {\n        var comm = window.PyViz.kernels[plot_id].connectToComm(comm_id);\n        comm.open();\n        if (msg_handler) {\n          comm.onMsg = msg_handler;\n        }\n      } else if (typeof google != 'undefined' && google.colab.kernel != null) {\n        var comm_promise = google.colab.kernel.comms.open(comm_id)\n        comm_promise.then((comm) => {\n          window.PyViz.comms[comm_id] = comm;\n          if (msg_handler) {\n            var messages = comm.messages[Symbol.asyncIterator]();\n            function processIteratorResult(result) {\n              var message = result.value;\n              var content = {data: message.data};\n              var metadata = message.metadata || {comm_id};\n              var msg = {content, metadata}\n              msg_handler(msg);\n              return messages.next().then(processIteratorResult);\n            }\n            return messages.next().then(processIteratorResult);\n          }\n        }) \n        var sendClosure = (data, metadata, buffers, disposeOnDone) => {\n          return comm_promise.then((comm) => {\n            comm.send(data, metadata, buffers, disposeOnDone);\n          });\n        };\n        var comm = {\n          send: sendClosure\n        };\n      }\n      window.PyViz.comms[comm_id] = comm;\n      return comm;\n    }\n    window.PyViz.comm_manager = new JupyterCommManager();\n    \n\n\nvar JS_MIME_TYPE = 'application/javascript';\nvar HTML_MIME_TYPE = 'text/html';\nvar EXEC_MIME_TYPE = 'application/vnd.holoviews_exec.v0+json';\nvar CLASS_NAME = 'output';\n\n/**\n * Render data to the DOM node\n */\nfunction render(props, node) {\n  var div = document.createElement(\"div\");\n  var script = document.createElement(\"script\");\n  node.appendChild(div);\n  node.appendChild(script);\n}\n\n/**\n * Handle when a new output is added\n */\nfunction handle_add_output(event, handle) {\n  var output_area = handle.output_area;\n  var output = handle.output;\n  if ((output.data == undefined) || (!output.data.hasOwnProperty(EXEC_MIME_TYPE))) {\n    return\n  }\n  var id = output.metadata[EXEC_MIME_TYPE][\"id\"];\n  var toinsert = output_area.element.find(\".\" + CLASS_NAME.split(' ')[0]);\n  if (id !== undefined) {\n    var nchildren = toinsert.length;\n    var html_node = toinsert[nchildren-1].children[0];\n    html_node.innerHTML = output.data[HTML_MIME_TYPE];\n    var scripts = [];\n    var nodelist = html_node.querySelectorAll(\"script\");\n    for (var i in nodelist) {\n      if (nodelist.hasOwnProperty(i)) {\n        scripts.push(nodelist[i])\n      }\n    }\n\n    scripts.forEach( function (oldScript) {\n      var newScript = document.createElement(\"script\");\n      var attrs = [];\n      var nodemap = oldScript.attributes;\n      for (var j in nodemap) {\n        if (nodemap.hasOwnProperty(j)) {\n          attrs.push(nodemap[j])\n        }\n      }\n      attrs.forEach(function(attr) { newScript.setAttribute(attr.name, attr.value) });\n      newScript.appendChild(document.createTextNode(oldScript.innerHTML));\n      oldScript.parentNode.replaceChild(newScript, oldScript);\n    });\n    if (JS_MIME_TYPE in output.data) {\n      toinsert[nchildren-1].children[1].textContent = output.data[JS_MIME_TYPE];\n    }\n    output_area._hv_plot_id = id;\n    if ((window.Bokeh !== undefined) && (id in Bokeh.index)) {\n      window.PyViz.plot_index[id] = Bokeh.index[id];\n    } else {\n      window.PyViz.plot_index[id] = null;\n    }\n  } else if (output.metadata[EXEC_MIME_TYPE][\"server_id\"] !== undefined) {\n    var bk_div = document.createElement(\"div\");\n    bk_div.innerHTML = output.data[HTML_MIME_TYPE];\n    var script_attrs = bk_div.children[0].attributes;\n    for (var i = 0; i < script_attrs.length; i++) {\n      toinsert[toinsert.length - 1].childNodes[1].setAttribute(script_attrs[i].name, script_attrs[i].value);\n    }\n    // store reference to server id on output_area\n    output_area._bokeh_server_id = output.metadata[EXEC_MIME_TYPE][\"server_id\"];\n  }\n}\n\n/**\n * Handle when an output is cleared or removed\n */\nfunction handle_clear_output(event, handle) {\n  var id = handle.cell.output_area._hv_plot_id;\n  var server_id = handle.cell.output_area._bokeh_server_id;\n  if (((id === undefined) || !(id in PyViz.plot_index)) && (server_id !== undefined)) { return; }\n  var comm = window.PyViz.comm_manager.get_client_comm(\"hv-extension-comm\", \"hv-extension-comm\", function () {});\n  if (server_id !== null) {\n    comm.send({event_type: 'server_delete', 'id': server_id});\n    return;\n  } else if (comm !== null) {\n    comm.send({event_type: 'delete', 'id': id});\n  }\n  delete PyViz.plot_index[id];\n  if ((window.Bokeh !== undefined) & (id in window.Bokeh.index)) {\n    var doc = window.Bokeh.index[id].model.document\n    doc.clear();\n    const i = window.Bokeh.documents.indexOf(doc);\n    if (i > -1) {\n      window.Bokeh.documents.splice(i, 1);\n    }\n  }\n}\n\n/**\n * Handle kernel restart event\n */\nfunction handle_kernel_cleanup(event, handle) {\n  delete PyViz.comms[\"hv-extension-comm\"];\n  window.PyViz.plot_index = {}\n}\n\n/**\n * Handle update_display_data messages\n */\nfunction handle_update_output(event, handle) {\n  handle_clear_output(event, {cell: {output_area: handle.output_area}})\n  handle_add_output(event, handle)\n}\n\nfunction register_renderer(events, OutputArea) {\n  function append_mime(data, metadata, element) {\n    // create a DOM node to render to\n    var toinsert = this.create_output_subarea(\n    metadata,\n    CLASS_NAME,\n    EXEC_MIME_TYPE\n    );\n    this.keyboard_manager.register_events(toinsert);\n    // Render to node\n    var props = {data: data, metadata: metadata[EXEC_MIME_TYPE]};\n    render(props, toinsert[0]);\n    element.append(toinsert);\n    return toinsert\n  }\n\n  events.on('output_added.OutputArea', handle_add_output);\n  events.on('output_updated.OutputArea', handle_update_output);\n  events.on('clear_output.CodeCell', handle_clear_output);\n  events.on('delete.Cell', handle_clear_output);\n  events.on('kernel_ready.Kernel', handle_kernel_cleanup);\n\n  OutputArea.prototype.register_mime_type(EXEC_MIME_TYPE, append_mime, {\n    safe: true,\n    index: 0\n  });\n}\n\nif (window.Jupyter !== undefined) {\n  try {\n    var events = require('base/js/events');\n    var OutputArea = require('notebook/js/outputarea').OutputArea;\n    if (OutputArea.prototype.mime_types().indexOf(EXEC_MIME_TYPE) == -1) {\n      register_renderer(events, OutputArea);\n    }\n  } catch(err) {\n  }\n}\n",
      "application/javascript": "\nif ((window.PyViz === undefined) || (window.PyViz instanceof HTMLElement)) {\n  window.PyViz = {comms: {}, comm_status:{}, kernels:{}, receivers: {}, plot_index: []}\n}\n\n\n    function JupyterCommManager() {\n    }\n\n    JupyterCommManager.prototype.register_target = function(plot_id, comm_id, msg_handler) {\n      if (window.comm_manager || ((window.Jupyter !== undefined) && (Jupyter.notebook.kernel != null))) {\n        var comm_manager = window.comm_manager || Jupyter.notebook.kernel.comm_manager;\n        comm_manager.register_target(comm_id, function(comm) {\n          comm.on_msg(msg_handler);\n        });\n      } else if ((plot_id in window.PyViz.kernels) && (window.PyViz.kernels[plot_id])) {\n        window.PyViz.kernels[plot_id].registerCommTarget(comm_id, function(comm) {\n          comm.onMsg = msg_handler;\n        });\n      } else if (typeof google != 'undefined' && google.colab.kernel != null) {\n        google.colab.kernel.comms.registerTarget(comm_id, (comm) => {\n          var messages = comm.messages[Symbol.asyncIterator]();\n          function processIteratorResult(result) {\n            var message = result.value;\n            console.log(message)\n            var content = {data: message.data, comm_id};\n            var buffers = []\n            for (var buffer of message.buffers || []) {\n              buffers.push(new DataView(buffer))\n            }\n            var metadata = message.metadata || {};\n            var msg = {content, buffers, metadata}\n            msg_handler(msg);\n            return messages.next().then(processIteratorResult);\n          }\n          return messages.next().then(processIteratorResult);\n        })\n      }\n    }\n\n    JupyterCommManager.prototype.get_client_comm = function(plot_id, comm_id, msg_handler) {\n      if (comm_id in window.PyViz.comms) {\n        return window.PyViz.comms[comm_id];\n      } else if (window.comm_manager || ((window.Jupyter !== undefined) && (Jupyter.notebook.kernel != null))) {\n        var comm_manager = window.comm_manager || Jupyter.notebook.kernel.comm_manager;\n        var comm = comm_manager.new_comm(comm_id, {}, {}, {}, comm_id);\n        if (msg_handler) {\n          comm.on_msg(msg_handler);\n        }\n      } else if ((plot_id in window.PyViz.kernels) && (window.PyViz.kernels[plot_id])) {\n        var comm = window.PyViz.kernels[plot_id].connectToComm(comm_id);\n        comm.open();\n        if (msg_handler) {\n          comm.onMsg = msg_handler;\n        }\n      } else if (typeof google != 'undefined' && google.colab.kernel != null) {\n        var comm_promise = google.colab.kernel.comms.open(comm_id)\n        comm_promise.then((comm) => {\n          window.PyViz.comms[comm_id] = comm;\n          if (msg_handler) {\n            var messages = comm.messages[Symbol.asyncIterator]();\n            function processIteratorResult(result) {\n              var message = result.value;\n              var content = {data: message.data};\n              var metadata = message.metadata || {comm_id};\n              var msg = {content, metadata}\n              msg_handler(msg);\n              return messages.next().then(processIteratorResult);\n            }\n            return messages.next().then(processIteratorResult);\n          }\n        }) \n        var sendClosure = (data, metadata, buffers, disposeOnDone) => {\n          return comm_promise.then((comm) => {\n            comm.send(data, metadata, buffers, disposeOnDone);\n          });\n        };\n        var comm = {\n          send: sendClosure\n        };\n      }\n      window.PyViz.comms[comm_id] = comm;\n      return comm;\n    }\n    window.PyViz.comm_manager = new JupyterCommManager();\n    \n\n\nvar JS_MIME_TYPE = 'application/javascript';\nvar HTML_MIME_TYPE = 'text/html';\nvar EXEC_MIME_TYPE = 'application/vnd.holoviews_exec.v0+json';\nvar CLASS_NAME = 'output';\n\n/**\n * Render data to the DOM node\n */\nfunction render(props, node) {\n  var div = document.createElement(\"div\");\n  var script = document.createElement(\"script\");\n  node.appendChild(div);\n  node.appendChild(script);\n}\n\n/**\n * Handle when a new output is added\n */\nfunction handle_add_output(event, handle) {\n  var output_area = handle.output_area;\n  var output = handle.output;\n  if ((output.data == undefined) || (!output.data.hasOwnProperty(EXEC_MIME_TYPE))) {\n    return\n  }\n  var id = output.metadata[EXEC_MIME_TYPE][\"id\"];\n  var toinsert = output_area.element.find(\".\" + CLASS_NAME.split(' ')[0]);\n  if (id !== undefined) {\n    var nchildren = toinsert.length;\n    var html_node = toinsert[nchildren-1].children[0];\n    html_node.innerHTML = output.data[HTML_MIME_TYPE];\n    var scripts = [];\n    var nodelist = html_node.querySelectorAll(\"script\");\n    for (var i in nodelist) {\n      if (nodelist.hasOwnProperty(i)) {\n        scripts.push(nodelist[i])\n      }\n    }\n\n    scripts.forEach( function (oldScript) {\n      var newScript = document.createElement(\"script\");\n      var attrs = [];\n      var nodemap = oldScript.attributes;\n      for (var j in nodemap) {\n        if (nodemap.hasOwnProperty(j)) {\n          attrs.push(nodemap[j])\n        }\n      }\n      attrs.forEach(function(attr) { newScript.setAttribute(attr.name, attr.value) });\n      newScript.appendChild(document.createTextNode(oldScript.innerHTML));\n      oldScript.parentNode.replaceChild(newScript, oldScript);\n    });\n    if (JS_MIME_TYPE in output.data) {\n      toinsert[nchildren-1].children[1].textContent = output.data[JS_MIME_TYPE];\n    }\n    output_area._hv_plot_id = id;\n    if ((window.Bokeh !== undefined) && (id in Bokeh.index)) {\n      window.PyViz.plot_index[id] = Bokeh.index[id];\n    } else {\n      window.PyViz.plot_index[id] = null;\n    }\n  } else if (output.metadata[EXEC_MIME_TYPE][\"server_id\"] !== undefined) {\n    var bk_div = document.createElement(\"div\");\n    bk_div.innerHTML = output.data[HTML_MIME_TYPE];\n    var script_attrs = bk_div.children[0].attributes;\n    for (var i = 0; i < script_attrs.length; i++) {\n      toinsert[toinsert.length - 1].childNodes[1].setAttribute(script_attrs[i].name, script_attrs[i].value);\n    }\n    // store reference to server id on output_area\n    output_area._bokeh_server_id = output.metadata[EXEC_MIME_TYPE][\"server_id\"];\n  }\n}\n\n/**\n * Handle when an output is cleared or removed\n */\nfunction handle_clear_output(event, handle) {\n  var id = handle.cell.output_area._hv_plot_id;\n  var server_id = handle.cell.output_area._bokeh_server_id;\n  if (((id === undefined) || !(id in PyViz.plot_index)) && (server_id !== undefined)) { return; }\n  var comm = window.PyViz.comm_manager.get_client_comm(\"hv-extension-comm\", \"hv-extension-comm\", function () {});\n  if (server_id !== null) {\n    comm.send({event_type: 'server_delete', 'id': server_id});\n    return;\n  } else if (comm !== null) {\n    comm.send({event_type: 'delete', 'id': id});\n  }\n  delete PyViz.plot_index[id];\n  if ((window.Bokeh !== undefined) & (id in window.Bokeh.index)) {\n    var doc = window.Bokeh.index[id].model.document\n    doc.clear();\n    const i = window.Bokeh.documents.indexOf(doc);\n    if (i > -1) {\n      window.Bokeh.documents.splice(i, 1);\n    }\n  }\n}\n\n/**\n * Handle kernel restart event\n */\nfunction handle_kernel_cleanup(event, handle) {\n  delete PyViz.comms[\"hv-extension-comm\"];\n  window.PyViz.plot_index = {}\n}\n\n/**\n * Handle update_display_data messages\n */\nfunction handle_update_output(event, handle) {\n  handle_clear_output(event, {cell: {output_area: handle.output_area}})\n  handle_add_output(event, handle)\n}\n\nfunction register_renderer(events, OutputArea) {\n  function append_mime(data, metadata, element) {\n    // create a DOM node to render to\n    var toinsert = this.create_output_subarea(\n    metadata,\n    CLASS_NAME,\n    EXEC_MIME_TYPE\n    );\n    this.keyboard_manager.register_events(toinsert);\n    // Render to node\n    var props = {data: data, metadata: metadata[EXEC_MIME_TYPE]};\n    render(props, toinsert[0]);\n    element.append(toinsert);\n    return toinsert\n  }\n\n  events.on('output_added.OutputArea', handle_add_output);\n  events.on('output_updated.OutputArea', handle_update_output);\n  events.on('clear_output.CodeCell', handle_clear_output);\n  events.on('delete.Cell', handle_clear_output);\n  events.on('kernel_ready.Kernel', handle_kernel_cleanup);\n\n  OutputArea.prototype.register_mime_type(EXEC_MIME_TYPE, append_mime, {\n    safe: true,\n    index: 0\n  });\n}\n\nif (window.Jupyter !== undefined) {\n  try {\n    var events = require('base/js/events');\n    var OutputArea = require('notebook/js/outputarea').OutputArea;\n    if (OutputArea.prototype.mime_types().indexOf(EXEC_MIME_TYPE) == -1) {\n      register_renderer(events, OutputArea);\n    }\n  } catch(err) {\n  }\n}\n"
     },
     "metadata": {},
     "output_type": "display_data"
    },
    {
     "data": {
      "text/html": "<style>.bk-root, .bk-root .bk:before, .bk-root .bk:after {\n  font-family: var(--jp-ui-font-size1);\n  font-size: var(--jp-ui-font-size1);\n  color: var(--jp-ui-font-color1);\n}\n</style>"
     },
     "metadata": {},
     "output_type": "display_data"
    }
   ],
   "source": [
    "#Analysis Libraries\n",
    "import requests\n",
    "#import wordcloud\n",
    "from IPython.display import JSON\n",
    "import pandas as pd\n",
    "import numpy as np\n",
    "import time\n",
    "\n",
    "#Visual Libraries\n",
    "#from wordcloud import WordCloud, STOPWORDS\n",
    "import plotly.express as px\n",
    "%matplotlib inline\n",
    "import matplotlib.pyplot as plt\n",
    "\n",
    "#Dashboard Library - Panel/Hvplot (holoviz)\n",
    "import panel as pn\n",
    "pn.extension()\n",
    "import param\n",
    "import hvplot.pandas\n",
    "\n",
    "#Additional Libraries\n",
    "import pickle\n",
    "from io import StringIO\n",
    "\n",
    "#Import API\n",
    "from Keys import Api\n",
    "\n",
    "#Image\n",
    "from PIL import Image\n",
    "from os import path\n",
    "import os"
   ]
  },
  {
   "cell_type": "code",
   "execution_count": 3,
   "outputs": [
    {
     "data": {
      "text/plain": "'\\nThe following script is to send request and save data for use later\\n'"
     },
     "execution_count": 3,
     "metadata": {},
     "output_type": "execute_result"
    }
   ],
   "source": [
    "\"\"\"\n",
    "The following script is to send request and save data for use later\n",
    "\"\"\""
   ],
   "metadata": {
    "collapsed": false,
    "pycharm": {
     "name": "#%%\n"
    }
   }
  },
  {
   "cell_type": "code",
   "execution_count": 5,
   "outputs": [
    {
     "name": "stdout",
     "output_type": "stream",
     "text": [
      "FOX Response JSON: \n",
      "\n",
      "{'id': 'rsc9t0sa1d-e520-45d6-8720-97e068162ddb', 'language_model': 'assemblyai_default', 'acoustic_model': 'assemblyai_default', 'language_code': 'en_us', 'status': 'queued', 'audio_url': 'https://github.com/DominicTheAnalyst/Fox-CNN-Analysis/blob/main/FOX_Analysis_FBI_Raid.mp3?raw=true', 'text': None, 'words': None, 'utterances': None, 'confidence': None, 'audio_duration': None, 'punctuate': True, 'format_text': True, 'dual_channel': None, 'webhook_url': None, 'webhook_status_code': None, 'webhook_auth': False, 'webhook_auth_header_name': None, 'speed_boost': False, 'auto_highlights_result': None, 'auto_highlights': True, 'audio_start_from': None, 'audio_end_at': None, 'word_boost': [], 'boost_param': None, 'filter_profanity': False, 'redact_pii': False, 'redact_pii_audio': False, 'redact_pii_audio_quality': None, 'redact_pii_policies': None, 'redact_pii_sub': None, 'speaker_labels': False, 'content_safety': True, 'iab_categories': True, 'content_safety_labels': {}, 'iab_categories_result': {}, 'language_detection': False, 'custom_spelling': None, 'cluster_id': None, 'throttled': None, 'summarization': False, 'summary_type': None, 'disfluencies': False, 'sentiment_analysis': True, 'sentiment_analysis_results': None, 'auto_chapters': True, 'chapters': None, 'entity_detection': False, 'entities': None}\n",
      "\n",
      "CNN Response JSON: \n",
      "\n",
      "{'id': 'rsc9t500co-cf40-4178-9105-820823863e74', 'language_model': 'assemblyai_default', 'acoustic_model': 'assemblyai_default', 'language_code': 'en_us', 'status': 'queued', 'audio_url': 'https://github.com/DominicTheAnalyst/Fox-CNN-Analysis/blob/main/CNN_Analysis_FBI_Raid.mp3?raw=true', 'text': None, 'words': None, 'utterances': None, 'confidence': None, 'audio_duration': None, 'punctuate': True, 'format_text': True, 'dual_channel': None, 'webhook_url': None, 'webhook_status_code': None, 'webhook_auth': False, 'webhook_auth_header_name': None, 'speed_boost': False, 'auto_highlights_result': None, 'auto_highlights': True, 'audio_start_from': None, 'audio_end_at': None, 'word_boost': [], 'boost_param': None, 'filter_profanity': False, 'redact_pii': False, 'redact_pii_audio': False, 'redact_pii_audio_quality': None, 'redact_pii_policies': None, 'redact_pii_sub': None, 'speaker_labels': False, 'content_safety': True, 'iab_categories': True, 'content_safety_labels': {}, 'iab_categories_result': {}, 'language_detection': False, 'custom_spelling': None, 'cluster_id': None, 'throttled': None, 'summarization': False, 'summary_type': None, 'disfluencies': False, 'sentiment_analysis': True, 'sentiment_analysis_results': None, 'auto_chapters': True, 'chapters': None, 'entity_detection': False, 'entities': None}\n"
     ]
    }
   ],
   "source": [
    "\"\"\"\n",
    "Making a request to Assembly AI\n",
    "\"\"\"\n",
    "#Submitting my audio file to AssemblyAI API for transcription\n",
    "\n",
    "endpoint = \"https://api.assemblyai.com/v2/transcript\"\n",
    "\n",
    "headers = {\n",
    "    \"authorization\": Api.api_key,\n",
    "    \"content-type\": \"application/json\"\n",
    "}\n",
    "\n",
    "#Adding auto highlight for detecting important words/phrases\n",
    "#Adding content-safety for harmful or negative words\n",
    "#Adding iab_categories for topic detection / description per chapter\n",
    "#Adding sentiment_analysis for overall review (positive/negative/neutral) for each sentence\n",
    "#Adding auto_chapters for determining the chapters of the audio file\n",
    "\n",
    "#Fox Send\n",
    "fox_json = {\n",
    "    \"audio_url\": \"https://github.com/DominicTheAnalyst/Fox-CNN-Analysis/blob/main/FOX_Analysis_FBI_Raid.mp3?raw=true\",\n",
    "    \"auto_highlights\": True,\n",
    "    \"content_safety\": True,\n",
    "    \"iab_categories\": True,\n",
    "    \"sentiment_analysis\": True,\n",
    "    \"auto_chapters\": True,\n",
    "}\n",
    "fox_response = requests.post(endpoint, json=fox_json, headers=headers)\n",
    "\n",
    "#CNN Send\n",
    "cnn_json = {\n",
    "    \"audio_url\": \"https://github.com/DominicTheAnalyst/Fox-CNN-Analysis/blob/main/CNN_Analysis_FBI_Raid.mp3?raw=true\",\n",
    "    \"auto_highlights\": True,\n",
    "    \"content_safety\": True,\n",
    "    \"iab_categories\": True,\n",
    "    \"sentiment_analysis\": True,\n",
    "    \"auto_chapters\": True,\n",
    "}\n",
    "cnn_response = requests.post(endpoint, json=cnn_json, headers=headers)\n",
    "\n",
    "print(\"FOX Response JSON: \\n\\n\" + str(fox_response.json()) + \"\\n\\nCNN Response JSON: \\n\\n\" + str(cnn_response.json()))"
   ],
   "metadata": {
    "collapsed": false,
    "pycharm": {
     "name": "#%%\n"
    }
   }
  },
  {
   "cell_type": "code",
   "execution_count": 6,
   "outputs": [
    {
     "name": "stdout",
     "output_type": "stream",
     "text": [
      "FOX Transcript JSON: \n",
      "\n",
      "<IPython.core.display.JSON object>\n",
      "\n",
      "CNN Transcript JSON: \n",
      "\n",
      "<IPython.core.display.JSON object>\n"
     ]
    }
   ],
   "source": [
    "\"\"\"\n",
    "Get data from request once requirements are met\n",
    "\"\"\"\n",
    "#While loop to get request only when all satisfactions are complete\n",
    "fox_result_endpoint = endpoint + \"/\" + fox_response.json()[\"id\"]\n",
    "cnn_result_endpoint = endpoint + \"/\" + cnn_response.json()[\"id\"]\n",
    "headers_auth = {\n",
    "    \"authorization\": Api.api_key,\n",
    "}\n",
    "\n",
    "#Fox Fetch\n",
    "while fox_response.json()['status'] != 'completed':\n",
    "    fox_response = requests.get(fox_result_endpoint, headers=headers_auth)\n",
    "    time.sleep(3)\n",
    "\n",
    "fox_transcript_response = requests.get(fox_result_endpoint, headers=headers_auth)\n",
    "\n",
    "#CNN Fetch\n",
    "while cnn_response.json()['status'] != 'completed':\n",
    "    cnn_response = requests.get(cnn_result_endpoint, headers=headers_auth)\n",
    "    time.sleep(3)\n",
    "\n",
    "cnn_transcript_response = requests.get(cnn_result_endpoint, headers=headers_auth)\n",
    "\n",
    "print(\"FOX Transcript JSON: \\n\\n\" + str(JSON(fox_transcript_response.json())) + \"\\n\\nCNN Transcript JSON: \\n\\n\" + str(JSON(cnn_transcript_response.json())))"
   ],
   "metadata": {
    "collapsed": false,
    "pycharm": {
     "name": "#%%\n"
    }
   }
  },
  {
   "cell_type": "code",
   "execution_count": 7,
   "outputs": [],
   "source": [
    "\"\"\"\n",
    "Saving data as pickle to be used repeatedly without making multiple requests over different sessions then unpickling to get the data\n",
    "\"\"\"\n",
    "#Save Pickle\n",
    "\n",
    "#Save pickle for Fox\n",
    "with open('fox_speech_data.pkl', 'wb') as f:\n",
    "    pickle.dump(fox_transcript_response.json().copy(), f)\n",
    "\n",
    "#Save pickle for CNN\n",
    "with open('cnn_speech_data.pkl', 'wb') as f:\n",
    "    pickle.dump(cnn_transcript_response.json().copy(), f)\n",
    "\n",
    "#Load Pickle\n",
    "\n",
    "#Load pickle for Fox\n",
    "with open('fox_speech_data.pkl', 'rb') as f:\n",
    "    fox_data = pickle.load(f)\n",
    "\n",
    "#Load pickle for Cnn\n",
    "with open('cnn_speech_data.pkl', 'rb') as f:\n",
    "    cnn_data = pickle.load(f)"
   ],
   "metadata": {
    "collapsed": false,
    "pycharm": {
     "name": "#%%\n"
    }
   }
  },
  {
   "cell_type": "code",
   "execution_count": 8,
   "outputs": [
    {
     "data": {
      "text/plain": "'\\nThe following scripts are used to make items for interactive dashboards\\n'"
     },
     "execution_count": 8,
     "metadata": {},
     "output_type": "execute_result"
    }
   ],
   "source": [
    "\"\"\"\n",
    "The following scripts are used to make items for interactive dashboards\n",
    "\"\"\""
   ],
   "metadata": {
    "collapsed": false,
    "pycharm": {
     "name": "#%%\n"
    }
   }
  },
  {
   "cell_type": "code",
   "execution_count": 9,
   "outputs": [
    {
     "name": "stdout",
     "output_type": "stream",
     "text": [
      "FOX Transcript: \n",
      "\n",
      "\n",
      "\n",
      "\n",
      "CNN Transcript: \n",
      "\n",
      "\n"
     ]
    },
    {
     "data": {},
     "metadata": {},
     "output_type": "display_data"
    },
    {
     "data": {
      "text/html": "<div id='1002'>\n  <div class=\"bk-root\" id=\"dcb6b44c-e983-4b82-b110-92aa790583db\" data-root-id=\"1002\"></div>\n</div>\n<script type=\"application/javascript\">(function(root) {\n  function embed_document(root) {\n    var docs_json = {\"12a31627-a4a9-4b84-8809-f09256366c8b\":{\"defs\":[{\"extends\":null,\"module\":null,\"name\":\"ReactiveHTML1\",\"overrides\":[],\"properties\":[]},{\"extends\":null,\"module\":null,\"name\":\"FlexBox1\",\"overrides\":[],\"properties\":[{\"default\":\"flex-start\",\"kind\":null,\"name\":\"align_content\"},{\"default\":\"flex-start\",\"kind\":null,\"name\":\"align_items\"},{\"default\":\"row\",\"kind\":null,\"name\":\"flex_direction\"},{\"default\":\"wrap\",\"kind\":null,\"name\":\"flex_wrap\"},{\"default\":\"flex-start\",\"kind\":null,\"name\":\"justify_content\"}]},{\"extends\":null,\"module\":null,\"name\":\"GridStack1\",\"overrides\":[],\"properties\":[{\"default\":\"warn\",\"kind\":null,\"name\":\"mode\"},{\"default\":null,\"kind\":null,\"name\":\"ncols\"},{\"default\":null,\"kind\":null,\"name\":\"nrows\"},{\"default\":true,\"kind\":null,\"name\":\"allow_resize\"},{\"default\":true,\"kind\":null,\"name\":\"allow_drag\"},{\"default\":[],\"kind\":null,\"name\":\"state\"}]},{\"extends\":null,\"module\":null,\"name\":\"click1\",\"overrides\":[],\"properties\":[{\"default\":\"\",\"kind\":null,\"name\":\"terminal_output\"},{\"default\":\"\",\"kind\":null,\"name\":\"debug_name\"},{\"default\":0,\"kind\":null,\"name\":\"clears\"}]},{\"extends\":null,\"module\":null,\"name\":\"NotificationAreaBase1\",\"overrides\":[],\"properties\":[{\"default\":\"bottom-right\",\"kind\":null,\"name\":\"position\"},{\"default\":0,\"kind\":null,\"name\":\"_clear\"}]},{\"extends\":null,\"module\":null,\"name\":\"NotificationArea1\",\"overrides\":[],\"properties\":[{\"default\":[],\"kind\":null,\"name\":\"notifications\"},{\"default\":\"bottom-right\",\"kind\":null,\"name\":\"position\"},{\"default\":0,\"kind\":null,\"name\":\"_clear\"},{\"default\":[{\"background\":\"#ffc107\",\"icon\":{\"className\":\"fas fa-exclamation-triangle\",\"color\":\"white\",\"tagName\":\"i\"},\"type\":\"warning\"},{\"background\":\"#007bff\",\"icon\":{\"className\":\"fas fa-info-circle\",\"color\":\"white\",\"tagName\":\"i\"},\"type\":\"info\"}],\"kind\":null,\"name\":\"types\"}]},{\"extends\":null,\"module\":null,\"name\":\"Notification\",\"overrides\":[],\"properties\":[{\"default\":null,\"kind\":null,\"name\":\"background\"},{\"default\":3000,\"kind\":null,\"name\":\"duration\"},{\"default\":null,\"kind\":null,\"name\":\"icon\"},{\"default\":\"\",\"kind\":null,\"name\":\"message\"},{\"default\":null,\"kind\":null,\"name\":\"notification_type\"},{\"default\":false,\"kind\":null,\"name\":\"_destroyed\"}]},{\"extends\":null,\"module\":null,\"name\":\"TemplateActions1\",\"overrides\":[],\"properties\":[{\"default\":0,\"kind\":null,\"name\":\"open_modal\"},{\"default\":0,\"kind\":null,\"name\":\"close_modal\"}]},{\"extends\":null,\"module\":null,\"name\":\"MaterialTemplateActions1\",\"overrides\":[],\"properties\":[{\"default\":0,\"kind\":null,\"name\":\"open_modal\"},{\"default\":0,\"kind\":null,\"name\":\"close_modal\"}]}],\"roots\":{\"references\":[{\"attributes\":{\"auto\":true,\"button_type\":\"success\",\"filename\":\"cnn_transcript.txt\",\"label\":\"Download cnn_transcript.txt\",\"margin\":[5,10,5,10]},\"id\":\"1002\",\"type\":\"panel.models.widgets.FileDownload\"},{\"attributes\":{\"reload\":false},\"id\":\"1004\",\"type\":\"panel.models.location.Location\"},{\"attributes\":{\"client_comm_id\":\"6a35aba56ce145f491caade9e07c5294\",\"comm_id\":\"659774e9d2064f5584dd1e2323e2b5f0\",\"plot_id\":\"1002\"},\"id\":\"1003\",\"type\":\"panel.models.comm_manager.CommManager\"}],\"root_ids\":[\"1002\",\"1003\",\"1004\"]},\"title\":\"Bokeh Application\",\"version\":\"2.4.3\"}};\n    var render_items = [{\"docid\":\"12a31627-a4a9-4b84-8809-f09256366c8b\",\"root_ids\":[\"1002\"],\"roots\":{\"1002\":\"dcb6b44c-e983-4b82-b110-92aa790583db\"}}];\n    root.Bokeh.embed.embed_items_notebook(docs_json, render_items);\n  }\n  if (root.Bokeh !== undefined && root.Bokeh.Panel !== undefined) {\n    embed_document(root);\n  } else {\n    var attempts = 0;\n    var timer = setInterval(function(root) {\n      if (root.Bokeh !== undefined && root.Bokeh.Panel !== undefined) {\n        clearInterval(timer);\n        embed_document(root);\n      } else if (document.readyState == \"complete\") {\n        attempts++;\n        if (attempts > 200) {\n          clearInterval(timer);\n          console.log(\"Bokeh: ERROR: Unable to run BokehJS code because BokehJS library is missing\");\n        }\n      }\n    }, 25, root)\n  }\n})(window);</script>",
      "application/vnd.holoviews_exec.v0+json": "",
      "text/plain": "FileDownload(button_type='success', file=<_io.StringIO o..., filename='cnn_transcript.txt', label='Download cnn_transcript.t...)"
     },
     "execution_count": 9,
     "metadata": {
      "application/vnd.holoviews_exec.v0+json": {
       "id": "1002"
      }
     },
     "output_type": "execute_result"
    }
   ],
   "source": [
    "\"\"\"\n",
    "Making transcript download button\n",
    "\"\"\"\n",
    "#Download transcript widget for fox\n",
    "fox_buffer = StringIO()\n",
    "fox_buffer.write(fox_data[\"text\"])\n",
    "fox_buffer.seek(0)\n",
    "\n",
    "fox_transcript_download = pn.widgets.FileDownload(file=fox_buffer, filename=\"fox_transcript.txt\",\n",
    "                                                  button_type='success')\n",
    "\n",
    "#Download transcript widget for cnn\n",
    "cnn_buffer = StringIO()\n",
    "cnn_buffer.write(cnn_data[\"text\"])\n",
    "cnn_buffer.seek(0)\n",
    "\n",
    "cnn_transcript_download = pn.widgets.FileDownload(file=cnn_buffer, filename=\"cnn_transcript.txt\",\n",
    "                                                  button_type='success')\n",
    "print(\"FOX Transcript: \\n\\n\")\n",
    "fox_transcript_download\n",
    "print(\"\\n\\nCNN Transcript: \\n\\n\")\n",
    "cnn_transcript_download"
   ],
   "metadata": {
    "collapsed": false,
    "pycharm": {
     "name": "#%%\n"
    }
   }
  },
  {
   "cell_type": "code",
   "execution_count": 10,
   "outputs": [
    {
     "name": "stdout",
     "output_type": "stream",
     "text": [
      "FOX Play Button: \n",
      "\n",
      "\n",
      "\n",
      "\n",
      "CNN Play Button: \n",
      "\n",
      "\n"
     ]
    },
    {
     "data": {},
     "metadata": {},
     "output_type": "display_data"
    },
    {
     "data": {
      "text/html": "<div id='1005'>\n  <div class=\"bk-root\" id=\"1cd14e02-b2be-4592-b9af-ed3c4cb9f934\" data-root-id=\"1005\"></div>\n</div>\n<script type=\"application/javascript\">(function(root) {\n  function embed_document(root) {\n    var docs_json = {\"1d91bb39-f446-4fa8-b4a6-b05209f0255e\":{\"defs\":[{\"extends\":null,\"module\":null,\"name\":\"ReactiveHTML1\",\"overrides\":[],\"properties\":[]},{\"extends\":null,\"module\":null,\"name\":\"FlexBox1\",\"overrides\":[],\"properties\":[{\"default\":\"flex-start\",\"kind\":null,\"name\":\"align_content\"},{\"default\":\"flex-start\",\"kind\":null,\"name\":\"align_items\"},{\"default\":\"row\",\"kind\":null,\"name\":\"flex_direction\"},{\"default\":\"wrap\",\"kind\":null,\"name\":\"flex_wrap\"},{\"default\":\"flex-start\",\"kind\":null,\"name\":\"justify_content\"}]},{\"extends\":null,\"module\":null,\"name\":\"GridStack1\",\"overrides\":[],\"properties\":[{\"default\":\"warn\",\"kind\":null,\"name\":\"mode\"},{\"default\":null,\"kind\":null,\"name\":\"ncols\"},{\"default\":null,\"kind\":null,\"name\":\"nrows\"},{\"default\":true,\"kind\":null,\"name\":\"allow_resize\"},{\"default\":true,\"kind\":null,\"name\":\"allow_drag\"},{\"default\":[],\"kind\":null,\"name\":\"state\"}]},{\"extends\":null,\"module\":null,\"name\":\"click1\",\"overrides\":[],\"properties\":[{\"default\":\"\",\"kind\":null,\"name\":\"terminal_output\"},{\"default\":\"\",\"kind\":null,\"name\":\"debug_name\"},{\"default\":0,\"kind\":null,\"name\":\"clears\"}]},{\"extends\":null,\"module\":null,\"name\":\"NotificationAreaBase1\",\"overrides\":[],\"properties\":[{\"default\":\"bottom-right\",\"kind\":null,\"name\":\"position\"},{\"default\":0,\"kind\":null,\"name\":\"_clear\"}]},{\"extends\":null,\"module\":null,\"name\":\"NotificationArea1\",\"overrides\":[],\"properties\":[{\"default\":[],\"kind\":null,\"name\":\"notifications\"},{\"default\":\"bottom-right\",\"kind\":null,\"name\":\"position\"},{\"default\":0,\"kind\":null,\"name\":\"_clear\"},{\"default\":[{\"background\":\"#ffc107\",\"icon\":{\"className\":\"fas fa-exclamation-triangle\",\"color\":\"white\",\"tagName\":\"i\"},\"type\":\"warning\"},{\"background\":\"#007bff\",\"icon\":{\"className\":\"fas fa-info-circle\",\"color\":\"white\",\"tagName\":\"i\"},\"type\":\"info\"}],\"kind\":null,\"name\":\"types\"}]},{\"extends\":null,\"module\":null,\"name\":\"Notification\",\"overrides\":[],\"properties\":[{\"default\":null,\"kind\":null,\"name\":\"background\"},{\"default\":3000,\"kind\":null,\"name\":\"duration\"},{\"default\":null,\"kind\":null,\"name\":\"icon\"},{\"default\":\"\",\"kind\":null,\"name\":\"message\"},{\"default\":null,\"kind\":null,\"name\":\"notification_type\"},{\"default\":false,\"kind\":null,\"name\":\"_destroyed\"}]},{\"extends\":null,\"module\":null,\"name\":\"TemplateActions1\",\"overrides\":[],\"properties\":[{\"default\":0,\"kind\":null,\"name\":\"open_modal\"},{\"default\":0,\"kind\":null,\"name\":\"close_modal\"}]},{\"extends\":null,\"module\":null,\"name\":\"MaterialTemplateActions1\",\"overrides\":[],\"properties\":[{\"default\":0,\"kind\":null,\"name\":\"open_modal\"},{\"default\":0,\"kind\":null,\"name\":\"close_modal\"}]}],\"roots\":{\"references\":[{\"attributes\":{\"client_comm_id\":\"f741d196b97a4ee1914373d4891ac070\",\"comm_id\":\"40db047f4eb9493da326e2372a7b9da0\",\"plot_id\":\"1005\"},\"id\":\"1006\",\"type\":\"panel.models.comm_manager.CommManager\"},{\"attributes\":{\"margin\":[5,5,5,5],\"paused\":true,\"value\":\"https://github.com/DominicTheAnalyst/Fox-CNN-Analysis/blob/main/CNN_Analysis_FBI_Raid.mp3?raw=true\"},\"id\":\"1005\",\"type\":\"panel.models.widgets.Audio\"}],\"root_ids\":[\"1005\",\"1006\"]},\"title\":\"Bokeh Application\",\"version\":\"2.4.3\"}};\n    var render_items = [{\"docid\":\"1d91bb39-f446-4fa8-b4a6-b05209f0255e\",\"root_ids\":[\"1005\"],\"roots\":{\"1005\":\"1cd14e02-b2be-4592-b9af-ed3c4cb9f934\"}}];\n    root.Bokeh.embed.embed_items_notebook(docs_json, render_items);\n  }\n  if (root.Bokeh !== undefined && root.Bokeh.Panel !== undefined) {\n    embed_document(root);\n  } else {\n    var attempts = 0;\n    var timer = setInterval(function(root) {\n      if (root.Bokeh !== undefined && root.Bokeh.Panel !== undefined) {\n        clearInterval(timer);\n        embed_document(root);\n      } else if (document.readyState == \"complete\") {\n        attempts++;\n        if (attempts > 200) {\n          clearInterval(timer);\n          console.log(\"Bokeh: ERROR: Unable to run BokehJS code because BokehJS library is missing\");\n        }\n      }\n    }, 25, root)\n  }\n})(window);</script>",
      "application/vnd.holoviews_exec.v0+json": "",
      "text/plain": "Audio(str, name='CNN Audio')"
     },
     "execution_count": 10,
     "metadata": {
      "application/vnd.holoviews_exec.v0+json": {
       "id": "1005"
      }
     },
     "output_type": "execute_result"
    }
   ],
   "source": [
    "\"\"\"\n",
    "Making audio play button\n",
    "\"\"\"\n",
    "#Audio Play for Fox\n",
    "fox_audio_url = \"https://github.com/DominicTheAnalyst/Fox-CNN-Analysis/blob/main/FOX_Analysis_FBI_Raid.mp3?raw=true\"\n",
    "fox_audio_play = pn.pane.Audio(fox_audio_url, name='FOX Audio', time=0)\n",
    "\n",
    "#Audio Play for Fox\n",
    "cnn_audio_url = \"https://github.com/DominicTheAnalyst/Fox-CNN-Analysis/blob/main/CNN_Analysis_FBI_Raid.mp3?raw=true\"\n",
    "cnn_audio_play = pn.pane.Audio(cnn_audio_url, name='CNN Audio', time=0)\n",
    "\n",
    "print(\"FOX Play Button: \\n\\n\")\n",
    "fox_audio_play\n",
    "print(\"\\n\\nCNN Play Button: \\n\\n\")\n",
    "cnn_audio_play"
   ],
   "metadata": {
    "collapsed": false,
    "pycharm": {
     "name": "#%%\n"
    }
   }
  },
  {
   "cell_type": "code",
   "execution_count": 11,
   "outputs": [
    {
     "data": {},
     "metadata": {},
     "output_type": "display_data"
    },
    {
     "data": {},
     "metadata": {},
     "output_type": "display_data"
    },
    {
     "data": {
      "text/html": "<div id='1007'>\n  <div class=\"bk-root\" id=\"e8ffadb5-3cb0-4caa-9ac1-6fa2c7e3295a\" data-root-id=\"1007\"></div>\n</div>\n<script type=\"application/javascript\">(function(root) {\n  function embed_document(root) {\n    var docs_json = {\"5379ae5e-66d5-43ad-b4a0-b1a782f8621d\":{\"defs\":[{\"extends\":null,\"module\":null,\"name\":\"ReactiveHTML1\",\"overrides\":[],\"properties\":[]},{\"extends\":null,\"module\":null,\"name\":\"FlexBox1\",\"overrides\":[],\"properties\":[{\"default\":\"flex-start\",\"kind\":null,\"name\":\"align_content\"},{\"default\":\"flex-start\",\"kind\":null,\"name\":\"align_items\"},{\"default\":\"row\",\"kind\":null,\"name\":\"flex_direction\"},{\"default\":\"wrap\",\"kind\":null,\"name\":\"flex_wrap\"},{\"default\":\"flex-start\",\"kind\":null,\"name\":\"justify_content\"}]},{\"extends\":null,\"module\":null,\"name\":\"GridStack1\",\"overrides\":[],\"properties\":[{\"default\":\"warn\",\"kind\":null,\"name\":\"mode\"},{\"default\":null,\"kind\":null,\"name\":\"ncols\"},{\"default\":null,\"kind\":null,\"name\":\"nrows\"},{\"default\":true,\"kind\":null,\"name\":\"allow_resize\"},{\"default\":true,\"kind\":null,\"name\":\"allow_drag\"},{\"default\":[],\"kind\":null,\"name\":\"state\"}]},{\"extends\":null,\"module\":null,\"name\":\"click1\",\"overrides\":[],\"properties\":[{\"default\":\"\",\"kind\":null,\"name\":\"terminal_output\"},{\"default\":\"\",\"kind\":null,\"name\":\"debug_name\"},{\"default\":0,\"kind\":null,\"name\":\"clears\"}]},{\"extends\":null,\"module\":null,\"name\":\"NotificationAreaBase1\",\"overrides\":[],\"properties\":[{\"default\":\"bottom-right\",\"kind\":null,\"name\":\"position\"},{\"default\":0,\"kind\":null,\"name\":\"_clear\"}]},{\"extends\":null,\"module\":null,\"name\":\"NotificationArea1\",\"overrides\":[],\"properties\":[{\"default\":[],\"kind\":null,\"name\":\"notifications\"},{\"default\":\"bottom-right\",\"kind\":null,\"name\":\"position\"},{\"default\":0,\"kind\":null,\"name\":\"_clear\"},{\"default\":[{\"background\":\"#ffc107\",\"icon\":{\"className\":\"fas fa-exclamation-triangle\",\"color\":\"white\",\"tagName\":\"i\"},\"type\":\"warning\"},{\"background\":\"#007bff\",\"icon\":{\"className\":\"fas fa-info-circle\",\"color\":\"white\",\"tagName\":\"i\"},\"type\":\"info\"}],\"kind\":null,\"name\":\"types\"}]},{\"extends\":null,\"module\":null,\"name\":\"Notification\",\"overrides\":[],\"properties\":[{\"default\":null,\"kind\":null,\"name\":\"background\"},{\"default\":3000,\"kind\":null,\"name\":\"duration\"},{\"default\":null,\"kind\":null,\"name\":\"icon\"},{\"default\":\"\",\"kind\":null,\"name\":\"message\"},{\"default\":null,\"kind\":null,\"name\":\"notification_type\"},{\"default\":false,\"kind\":null,\"name\":\"_destroyed\"}]},{\"extends\":null,\"module\":null,\"name\":\"TemplateActions1\",\"overrides\":[],\"properties\":[{\"default\":0,\"kind\":null,\"name\":\"open_modal\"},{\"default\":0,\"kind\":null,\"name\":\"close_modal\"}]},{\"extends\":null,\"module\":null,\"name\":\"MaterialTemplateActions1\",\"overrides\":[],\"properties\":[{\"default\":0,\"kind\":null,\"name\":\"open_modal\"},{\"default\":0,\"kind\":null,\"name\":\"close_modal\"}]}],\"roots\":{\"references\":[{\"attributes\":{},\"id\":\"1052\",\"type\":\"AllLabels\"},{\"attributes\":{},\"id\":\"1113\",\"type\":\"StringFormatter\"},{\"attributes\":{\"fill_alpha\":{\"value\":0.1},\"fill_color\":{\"field\":\"dataset\",\"transform\":{\"id\":\"1040\"}},\"hatch_alpha\":{\"value\":0.1},\"hatch_color\":{\"field\":\"dataset\",\"transform\":{\"id\":\"1040\"}},\"line_alpha\":{\"value\":0.1},\"top\":{\"field\":\"Sentiment_Counts\"},\"width\":{\"value\":0.8},\"x\":{\"field\":\"xoffsets\"}},\"id\":\"1045\",\"type\":\"VBar\"},{\"attributes\":{},\"id\":\"1114\",\"type\":\"StringEditor\"},{\"attributes\":{\"editor\":{\"id\":\"1114\"},\"field\":\"dataset\",\"formatter\":{\"id\":\"1113\"},\"title\":\"dataset\",\"width\":0},\"id\":\"1115\",\"type\":\"TableColumn\"},{\"attributes\":{\"axis_label\":\"sentiment, dataset\",\"coordinates\":null,\"formatter\":{\"id\":\"1051\"},\"group\":null,\"major_label_policy\":{\"id\":\"1052\"},\"ticker\":{\"id\":\"1021\"}},\"id\":\"1020\",\"type\":\"CategoricalAxis\"},{\"attributes\":{\"tools\":[{\"id\":\"1010\"},{\"id\":\"1027\"},{\"id\":\"1028\"},{\"id\":\"1029\"},{\"id\":\"1030\"},{\"id\":\"1031\"}]},\"id\":\"1033\",\"type\":\"Toolbar\"},{\"attributes\":{\"indices\":[]},\"id\":\"1124\",\"type\":\"Selection\"},{\"attributes\":{},\"id\":\"1042\",\"type\":\"Selection\"},{\"attributes\":{\"text_align\":\"left\"},\"id\":\"1125\",\"type\":\"NumberFormatter\"},{\"attributes\":{\"axis_label\":\"Sentiment Counts\",\"coordinates\":null,\"formatter\":{\"id\":\"1054\"},\"group\":null,\"major_label_policy\":{\"id\":\"1055\"},\"ticker\":{\"id\":\"1024\"}},\"id\":\"1023\",\"type\":\"LinearAxis\"},{\"attributes\":{\"data\":{\"dataset\":[\"fox\",\"fox\",\"fox\",\"fox\",\"fox\",\"fox\",\"fox\",\"fox\",\"fox\",\"fox\",\"fox\",\"fox\",\"fox\",\"fox\",\"fox\",\"fox\",\"fox\",\"fox\",\"fox\",\"fox\",\"fox\",\"fox\",\"fox\",\"fox\",\"fox\",\"fox\",\"fox\",\"fox\",\"fox\",\"fox\",\"fox\",\"fox\",\"fox\",\"fox\",\"fox\",\"fox\",\"fox\",\"fox\",\"fox\",\"fox\",\"fox\",\"fox\",\"cnn\",\"cnn\",\"cnn\",\"cnn\",\"cnn\",\"cnn\",\"cnn\",\"cnn\",\"cnn\",\"cnn\",\"cnn\",\"cnn\",\"cnn\",\"cnn\",\"cnn\",\"cnn\",\"cnn\",\"cnn\",\"cnn\",\"cnn\",\"cnn\",\"cnn\",\"cnn\",\"cnn\",\"cnn\",\"cnn\",\"cnn\",\"cnn\",\"cnn\",\"cnn\",\"cnn\",\"cnn\",\"cnn\",\"cnn\",\"cnn\",\"cnn\",\"cnn\",\"cnn\",\"cnn\",\"cnn\",\"cnn\",\"cnn\",\"cnn\",\"cnn\",\"cnn\",\"cnn\",\"cnn\",\"cnn\",\"cnn\",\"cnn\",\"cnn\",\"cnn\",\"cnn\",\"cnn\",\"cnn\",\"cnn\",\"cnn\",\"cnn\",\"cnn\",\"cnn\",\"cnn\",\"cnn\",\"cnn\",\"cnn\",\"cnn\",\"cnn\",\"cnn\",\"cnn\",\"cnn\",\"cnn\",\"cnn\",\"cnn\",\"cnn\",\"cnn\",\"cnn\",\"cnn\",\"cnn\",\"cnn\",\"cnn\",\"cnn\",\"cnn\",\"cnn\"],\"index\":[0,1,2,3,5,6,13,14,15,16,17,22,23,24,25,26,28,29,32,33,34,35,36,37,38,39,40,41,43,44,48,49,50,52,54,56,57,58,60,61,62,63,0,1,3,4,5,6,7,8,12,16,17,18,19,20,21,24,26,28,29,30,31,32,33,35,37,39,41,42,43,44,45,46,48,49,50,51,52,54,55,56,57,58,59,60,62,64,65,67,70,72,76,77,78,79,80,81,83,84,87,88,89,90,91,92,94,96,98,102,104,109,110,111,114,115,116,117,118,119,120,123,124,125],\"sentiment\":[\"NEUTRAL\",\"NEUTRAL\",\"NEUTRAL\",\"NEUTRAL\",\"NEUTRAL\",\"NEUTRAL\",\"NEUTRAL\",\"NEUTRAL\",\"NEUTRAL\",\"NEUTRAL\",\"NEUTRAL\",\"NEUTRAL\",\"NEUTRAL\",\"NEUTRAL\",\"NEUTRAL\",\"NEUTRAL\",\"NEUTRAL\",\"NEUTRAL\",\"NEUTRAL\",\"NEUTRAL\",\"NEUTRAL\",\"NEUTRAL\",\"NEUTRAL\",\"NEUTRAL\",\"NEUTRAL\",\"NEUTRAL\",\"NEUTRAL\",\"NEUTRAL\",\"NEUTRAL\",\"NEUTRAL\",\"NEUTRAL\",\"NEUTRAL\",\"NEUTRAL\",\"NEUTRAL\",\"NEUTRAL\",\"NEUTRAL\",\"NEUTRAL\",\"NEUTRAL\",\"NEUTRAL\",\"NEUTRAL\",\"NEUTRAL\",\"NEUTRAL\",\"NEUTRAL\",\"NEUTRAL\",\"NEUTRAL\",\"NEUTRAL\",\"NEUTRAL\",\"NEUTRAL\",\"NEUTRAL\",\"NEUTRAL\",\"NEUTRAL\",\"NEUTRAL\",\"NEUTRAL\",\"NEUTRAL\",\"NEUTRAL\",\"NEUTRAL\",\"NEUTRAL\",\"NEUTRAL\",\"NEUTRAL\",\"NEUTRAL\",\"NEUTRAL\",\"NEUTRAL\",\"NEUTRAL\",\"NEUTRAL\",\"NEUTRAL\",\"NEUTRAL\",\"NEUTRAL\",\"NEUTRAL\",\"NEUTRAL\",\"NEUTRAL\",\"NEUTRAL\",\"NEUTRAL\",\"NEUTRAL\",\"NEUTRAL\",\"NEUTRAL\",\"NEUTRAL\",\"NEUTRAL\",\"NEUTRAL\",\"NEUTRAL\",\"NEUTRAL\",\"NEUTRAL\",\"NEUTRAL\",\"NEUTRAL\",\"NEUTRAL\",\"NEUTRAL\",\"NEUTRAL\",\"NEUTRAL\",\"NEUTRAL\",\"NEUTRAL\",\"NEUTRAL\",\"NEUTRAL\",\"NEUTRAL\",\"NEUTRAL\",\"NEUTRAL\",\"NEUTRAL\",\"NEUTRAL\",\"NEUTRAL\",\"NEUTRAL\",\"NEUTRAL\",\"NEUTRAL\",\"NEUTRAL\",\"NEUTRAL\",\"NEUTRAL\",\"NEUTRAL\",\"NEUTRAL\",\"NEUTRAL\",\"NEUTRAL\",\"NEUTRAL\",\"NEUTRAL\",\"NEUTRAL\",\"NEUTRAL\",\"NEUTRAL\",\"NEUTRAL\",\"NEUTRAL\",\"NEUTRAL\",\"NEUTRAL\",\"NEUTRAL\",\"NEUTRAL\",\"NEUTRAL\",\"NEUTRAL\",\"NEUTRAL\",\"NEUTRAL\",\"NEUTRAL\",\"NEUTRAL\"],\"text\":[\"Let's talk about exactly what you, the viewer, what you, the American, should be taking away from this with Stephen Miller.\",\"He's a former senior Trump advisor and he joins us with his reaction.\",\"Steven, what a day in American history.\",\"Your reaction?\",\"You have the sitting President of the United States, states Joe Biden, through his Justice Department, through his FBI, conducting a raid on the person who is presumed to be his opponent in the next election, and also the 45th President of the United States.\",\"As President Trump pointed out in his statement, it is riseable that this would be purportedly done in the name of document preservation.\",\"As you just pointed out with Hillary Clinton.\",\"There was no raid of Hillary Clinton in her classified documents.\",\"But here, now, under Joe Biden, there is exactly that pursuit.\",\"There is the use of law enforcement to go after his political opponent.\",\"Let's talk about the security state that has been after President Trump for six years when he declared his candidacy and then when he became the nominee, they began pushing the Russian collusion hoax.\",\"Let's not forget the assertion that the Hunter Biden scandals, well documented on video, were Russian disinformation.\",\"And let's not also forget that the sitting President of the United States is completely, as far as we know, being held harmless for how he benefited from his son's busy feelings.\",\"Where is the special counsel to look into how every penny of that income was handled by the Biden family, was handled by Biden, reported by Biden, and classified by Biden is not happening.\",\"Because again, we have a branch, a division of government that has decided throwing back to the eons before in the Roman Empire, that they can decide that they are the guardians of the empire.\",\"They can decide who leads us and who doesn't.\",\"And I would say nothing like this has happened, as far as I'm aware, in any other of our developed peers.\",\"And what, therefore, do you think, Steven, will be the fallout?\",\"We know the facts.\",\"We know what ended up or what did not end up in conclusion with all of those allegations and all of that investigation to Donald Trump and Russia.\",\"But the power of that investigation and the power of that allegation captured, held hostage America and a presidency for the better part of four years.\",\"Now, you have a new investigation.\",\"You have a new allegation.\",\"Stephen, what happens?\",\"What's the fallout?\",\"The only recourse that I can see in the near term, they'll obviously have to be a cleaning house in 2025.\",\"In the near term.\",\"There needs to be such a large majority elected in the House that they will have unquestioned ability to not only subpoena.\",\"Both current and past.\",\"And to ensure that we finally uncovered the truth about who was involved in each and every one of the scandals and misinformation campaigns I just walked through.\",\"Stephen, I want to ask you this as we end our conversation.\",\"I can't help but note that this is the day as well when Congress has passed a bill to expand the IRS Enforcement Agency by 870 new agents.\",\"I think the burden of proof for the DOJ on this allegation this investigation into Donald Trump is going to be more than the burden of proof in a court of law.\",\"What do you think on the back end of this, Stephen, will be the attitude of the American people towards institutions that have been granted inherited credibility for decades.\",\"You talk about the 87,000 IRS agents.\",\"They decide who is a nonprofit.\",\"They decide tax deductibility.\",\"They decide who is a political organization, who is a charity, who can be involved in our elections, who can't be this is an enormous power that is now being given to the IRS to further put a bureaucracy that is lifetime appointed and unelected in charge of our political system.\",\"Yeah.\",\"And it just highlights this is about more than a former president.\",\"This is about the American people.\",\"Stephen Miller, you always put into perspective.\",\"Michael, I want to ask you the first question because, you know, for an outsider, you've spent a considerable amount of time as a biographer of Trump with him and with family members.\",\"What do you think is going through his mind and their minds?\",\"This is a surprising answer, but I think that they have been planning for this for years.\",\"Donald Trump first did his reaction to the FBI actually having his lawyer call them Gestapo and stormtroopers 50 years ago.\",\"So he's been prepared for this strategy all along.\",\"He issued a campaign style commercial within hours.\",\"This was prepared in advance.\",\"So he's an expert at spinning everything into publicity.\",\"I do.\",\"And by the way, he knows how to play this up in his favor.\",\"He more or less broke this news.\",\"He's actually breaking news.\",\"Yeah.\",\"A Florida based reporter had something, but he was ready to go.\",\"And I've actually seen quite sort of aligned messaging among Republicans.\",\"If they do it to the present, the FBI will do it to you.\",\"So I hope the OJ is buttoned up on this.\",\"Unless the day is Ron DeSantis well, or anybody else who was planning on running for the Republican nomination in 2024.\",\"Look, this just happened.\",\"So the ramifications are still completely are mostly unknown.\",\"But in the short term, what it looks like is exactly what Alyssa said.\",\"I mean, I cannot tell you how many Republicans I have talked to who have said that just the political way that he handled this is vintage Trump and for his short term political goal, which is, if it is, in fact, to get the Republican nomination, kind of genius.\",\"Because he has used all look at the buzzwords he used in that statement occupy raid.\",\"And this, he believes, turns it around.\",\"I mean, he has foreshadowed this every step of the way from Mueller.\",\"We all knew that if DOJ did anything that this was going to be the response.\",\"But I suspect it's not.\",\"And I suspect it's not because, first of all, they got 15 boxes from there.\",\"They did discuss it in June, 15 boxes in January.\",\"In January.\",\"And then they talked about what was they had some discussions in June.\",\"I would guess this is pure speculation, but from my experience as a federal prosecutor, I would suspect that DOJ has very good information from a witness, that there is more there, and that's why they did the search warrant.\",\"You're not going to go ask him to turn something over.\",\"So you have to do a search warrant.\",\"And I don't think they're doing a search warrant just simply to sort of button up their investigation.\",\"I think they would only do this if they had real evidence of real indication of some evidence.\",\"And to be clear, what I just described is the political argument and what is going through his mind about his political future, which he sees is very much tied to the legal strategy.\",\"And I do think the specificity of the raid, knowing to look in the safe going into his personal office in Mara, Lago indicates that somebody may be cooperating who knows who's close to the Trump circle and would know where they should be looking.\",\"And we do know that a handful of folks have gone in in recent weeks.\",\"But I think this indicates someone's senior is cooperating.\",\"It's possible that the family knew all about this.\",\"I've seen these signals with Ivanka Trump actually saying, I've taken the red pill, which is a call out to the paranoid online, meme based Trump extremists.\",\"And Donald Trump Jr.\",\"Has this essentially iron cross crusader cross on the stock of his gun and displays it prominently.\",\"I want to make one thing clear, as we've been having this discussion here, is that we are getting really just one side of this, and it's from Trump world it is from Trump world.\",\"There was this political journal in Florida that sort of had a hint of this, but it was Donald Trump who made the statement and Donald Trump who tried to control the narrative early on last night.\",\"We haven't heard from DOJ.\",\"We haven't heard from DOJ.\",\"And it just goes to show you how much control Donald Trump still has over Kevin McCarthy and the Republican Party.\",\"I wonder if Hunter Biden is charged, are we going to see him with that same kind of preserve your records?\",\"Lisa Monaco must have known, the Deputy AG must have known this type of thing was coming.\",\"Christopher Ray must have known this type of response was coming.\",\"So given that they would likely anticipate this response, how much does that raise the stakes for their decision?\",\"What bar do you think that they must have felt was met?\",\"I think they had to feel like it was worth it for their investigation.\",\"They absolutely knew they were going to get this blowback.\",\"And every time he gets rid of killed, he says, we will follow the facts and the law wherever it leads.\",\"And I think he's going to do that.\",\"And I think he probably has just said, you know what, this is my job.\",\"I'll get attacked, but I'm going to do it.\",\"And can I just add to that?\",\"It's not as if they woke up one day and said, okay, today's the day, we're just going to issue this search warrant and we're going to send the FBI in to get what we want.\",\"This has been sort of the climax of months and months and months of actual talks between federal investigators and Donald Trump's lawyers.\",\"Our reporting is that the former President himself even went into a meeting that they were having at Mar a Lago about this.\",\"The question is why?\",\"Well, and I do think that DOJ is going to have to say something and while they don't comment on active investigations.\",\"Even Donald Trump's own potential 2024 candidates are immediately coming to his defense, not even knowing the facts of it.\",\"I'm not sure how long you could let that just hang out there without DOJ in some way, giving the public a little more information on what's going on and what led to this.\",\"Everybody's going to follow his lead.\",\"He's an expert in because DOJ and the FBI will not be able to say anything substantive.\",\"They will speak through their papers.\",\"I do think we will see probably sooner rather than later, the affidavit underlying the search warrant, which will lay out all the evidence.\",\"We saw this in the Mueller investigation.\",\"How does this affect his calculus on an announcement?\",\"Alyssa I think it just sped it up.\",\"I was already anticipating that by September he would announce.\",\"But I think that he's going to want to try this theory that you can't indict a president, but he's also going to push it a little bit further and say, and I'm a candidate for the presidency.\",\"He's going to argue he's the frontrunner for the presidency and that that legal theory should spill over.\",\"So I think he's moving up his announcement.\",\"One small factor that is probably not so small in his mind, though, that, you know, as somebody who has worked in politics before, the minute he announces, he loses a big money train.\",\"And that is the money that is coming from a joint agreement with the RNC that helps him pay his legal bills.\",\"And his legal bills are not small.\"]},\"selected\":{\"id\":\"1124\"},\"selection_policy\":{\"id\":\"1162\"}},\"id\":\"1123\",\"type\":\"ColumnDataSource\"},{\"attributes\":{},\"id\":\"1024\",\"type\":\"BasicTicker\"},{\"attributes\":{\"coordinates\":null,\"data_source\":{\"id\":\"1041\"},\"glyph\":{\"id\":\"1044\"},\"group\":null,\"hover_glyph\":null,\"muted_glyph\":{\"id\":\"1046\"},\"nonselection_glyph\":{\"id\":\"1045\"},\"selection_glyph\":{\"id\":\"1049\"},\"view\":{\"id\":\"1048\"}},\"id\":\"1047\",\"type\":\"GlyphRenderer\"},{\"attributes\":{\"child\":{\"id\":\"1146\"},\"name\":\"\",\"title\":\"Neutral\"},\"id\":\"1150\",\"type\":\"Panel\"},{\"attributes\":{},\"id\":\"1021\",\"type\":\"CategoricalTicker\"},{\"attributes\":{\"indices\":[]},\"id\":\"1068\",\"type\":\"Selection\"},{\"attributes\":{\"margin\":[0,0,0,0],\"tabs\":[{\"id\":\"1066\"},{\"id\":\"1094\"},{\"id\":\"1122\"},{\"id\":\"1150\"}]},\"id\":\"1007\",\"type\":\"panel.models.tabs.Tabs\"},{\"attributes\":{},\"id\":\"1028\",\"type\":\"PanTool\"},{\"attributes\":{\"text_align\":\"left\"},\"id\":\"1069\",\"type\":\"NumberFormatter\"},{\"attributes\":{\"axis\":{\"id\":\"1023\"},\"coordinates\":null,\"dimension\":1,\"grid_line_color\":null,\"group\":null,\"ticker\":null},\"id\":\"1026\",\"type\":\"Grid\"},{\"attributes\":{\"fill_alpha\":{\"value\":0.2},\"fill_color\":{\"field\":\"dataset\",\"transform\":{\"id\":\"1040\"}},\"hatch_alpha\":{\"value\":0.2},\"hatch_color\":{\"field\":\"dataset\",\"transform\":{\"id\":\"1040\"}},\"line_alpha\":{\"value\":0.2},\"top\":{\"field\":\"Sentiment_Counts\"},\"width\":{\"value\":0.8},\"x\":{\"field\":\"xoffsets\"}},\"id\":\"1046\",\"type\":\"VBar\"},{\"attributes\":{\"child\":{\"id\":\"1118\"},\"name\":\"\",\"title\":\"Negative\"},\"id\":\"1122\",\"type\":\"Panel\"},{\"attributes\":{\"editor\":{\"id\":\"1071\"},\"field\":\"index\",\"formatter\":{\"id\":\"1069\"},\"title\":\"index\",\"width\":0},\"id\":\"1072\",\"type\":\"TableColumn\"},{\"attributes\":{\"overlay\":{\"id\":\"1032\"}},\"id\":\"1030\",\"type\":\"BoxZoomTool\"},{\"attributes\":{\"editor\":{\"id\":\"1127\"},\"field\":\"index\",\"formatter\":{\"id\":\"1125\"},\"title\":\"index\",\"width\":0},\"id\":\"1128\",\"type\":\"TableColumn\"},{\"attributes\":{\"autosize_mode\":\"fit_columns\",\"columns\":[{\"id\":\"1072\"},{\"id\":\"1077\"},{\"id\":\"1082\"},{\"id\":\"1087\"}],\"editable\":true,\"height\":300,\"index_position\":null,\"margin\":[5,10,5,10],\"name\":\"\",\"row_height\":40,\"sizing_mode\":\"fixed\",\"source\":{\"id\":\"1067\"},\"view\":{\"id\":\"1092\"},\"width\":1000},\"id\":\"1090\",\"type\":\"DataTable\"},{\"attributes\":{},\"id\":\"1160\",\"type\":\"UnionRenderers\"},{\"attributes\":{},\"id\":\"1029\",\"type\":\"WheelZoomTool\"},{\"attributes\":{\"source\":{\"id\":\"1067\"}},\"id\":\"1092\",\"type\":\"CDSView\"},{\"attributes\":{\"bottom\":{\"value\":0},\"fill_alpha\":{\"value\":1.0},\"fill_color\":{\"field\":\"dataset\",\"transform\":{\"id\":\"1040\"}},\"hatch_alpha\":{\"value\":1.0},\"hatch_color\":{\"field\":\"dataset\",\"transform\":{\"id\":\"1040\"}},\"hatch_scale\":{\"value\":12.0},\"hatch_weight\":{\"value\":1.0},\"line_alpha\":{\"value\":1.0},\"line_cap\":{\"value\":\"butt\"},\"line_color\":{\"value\":\"black\"},\"line_dash\":{\"value\":[]},\"line_dash_offset\":{\"value\":0},\"line_join\":{\"value\":\"bevel\"},\"line_width\":{\"value\":1},\"top\":{\"field\":\"Sentiment_Counts\"},\"width\":{\"value\":0.8},\"x\":{\"field\":\"xoffsets\"}},\"id\":\"1049\",\"type\":\"VBar\"},{\"attributes\":{},\"id\":\"1027\",\"type\":\"SaveTool\"},{\"attributes\":{},\"id\":\"1031\",\"type\":\"ResetTool\"},{\"attributes\":{},\"id\":\"1071\",\"type\":\"CellEditor\"},{\"attributes\":{\"autosize_mode\":\"fit_columns\",\"columns\":[{\"id\":\"1128\"},{\"id\":\"1133\"},{\"id\":\"1138\"},{\"id\":\"1143\"}],\"editable\":true,\"height\":300,\"index_position\":null,\"margin\":[5,10,5,10],\"name\":\"\",\"row_height\":40,\"sizing_mode\":\"fixed\",\"source\":{\"id\":\"1123\"},\"view\":{\"id\":\"1148\"},\"width\":1000},\"id\":\"1146\",\"type\":\"DataTable\"},{\"attributes\":{},\"id\":\"1127\",\"type\":\"CellEditor\"},{\"attributes\":{},\"id\":\"1075\",\"type\":\"StringFormatter\"},{\"attributes\":{},\"id\":\"1131\",\"type\":\"StringFormatter\"},{\"attributes\":{},\"id\":\"1076\",\"type\":\"StringEditor\"},{\"attributes\":{},\"id\":\"1132\",\"type\":\"StringEditor\"},{\"attributes\":{\"editor\":{\"id\":\"1076\"},\"field\":\"text\",\"formatter\":{\"id\":\"1075\"},\"title\":\"text\",\"width\":0},\"id\":\"1077\",\"type\":\"TableColumn\"},{\"attributes\":{\"factors\":[\"cnn\",\"fox\"],\"palette\":[\"blue\",\"red\"]},\"id\":\"1040\",\"type\":\"CategoricalColorMapper\"},{\"attributes\":{\"editor\":{\"id\":\"1132\"},\"field\":\"text\",\"formatter\":{\"id\":\"1131\"},\"title\":\"text\",\"width\":0},\"id\":\"1133\",\"type\":\"TableColumn\"},{\"attributes\":{\"client_comm_id\":\"9b7ac17eb9c1486ca8c5ee72f9d5bf50\",\"comm_id\":\"471875bfffa3406eaf28abdb4e7800eb\",\"plot_id\":\"1007\"},\"id\":\"1199\",\"type\":\"panel.models.comm_manager.CommManager\"},{\"attributes\":{\"fill_color\":{\"field\":\"dataset\",\"transform\":{\"id\":\"1040\"}},\"hatch_color\":{\"field\":\"dataset\",\"transform\":{\"id\":\"1040\"}},\"top\":{\"field\":\"Sentiment_Counts\"},\"width\":{\"value\":0.8},\"x\":{\"field\":\"xoffsets\"}},\"id\":\"1044\",\"type\":\"VBar\"},{\"attributes\":{\"axis\":{\"id\":\"1020\"},\"coordinates\":null,\"grid_line_color\":null,\"group\":null,\"ticker\":null},\"id\":\"1022\",\"type\":\"Grid\"},{\"attributes\":{},\"id\":\"1080\",\"type\":\"StringFormatter\"},{\"attributes\":{},\"id\":\"1054\",\"type\":\"BasicTickFormatter\"},{\"attributes\":{},\"id\":\"1136\",\"type\":\"StringFormatter\"},{\"attributes\":{},\"id\":\"1081\",\"type\":\"StringEditor\"},{\"attributes\":{},\"id\":\"1137\",\"type\":\"StringEditor\"},{\"attributes\":{\"editor\":{\"id\":\"1081\"},\"field\":\"sentiment\",\"formatter\":{\"id\":\"1080\"},\"title\":\"sentiment\",\"width\":0},\"id\":\"1082\",\"type\":\"TableColumn\"},{\"attributes\":{\"editor\":{\"id\":\"1137\"},\"field\":\"sentiment\",\"formatter\":{\"id\":\"1136\"},\"title\":\"sentiment\",\"width\":0},\"id\":\"1138\",\"type\":\"TableColumn\"},{\"attributes\":{},\"id\":\"1018\",\"type\":\"LinearScale\"},{\"attributes\":{},\"id\":\"1162\",\"type\":\"UnionRenderers\"},{\"attributes\":{\"child\":{\"id\":\"1011\"},\"name\":\"Sentiment Overview\",\"title\":\"Sentiment Overview\"},\"id\":\"1066\",\"type\":\"Panel\"},{\"attributes\":{},\"id\":\"1141\",\"type\":\"StringFormatter\"},{\"attributes\":{},\"id\":\"1085\",\"type\":\"StringFormatter\"},{\"attributes\":{\"data\":{\"dataset\":[\"fox\",\"fox\",\"fox\",\"fox\",\"cnn\",\"cnn\",\"cnn\",\"cnn\",\"cnn\",\"cnn\",\"cnn\",\"cnn\",\"cnn\",\"cnn\"],\"index\":[27,30,64,65,2,9,10,15,25,27,36,63,121,122],\"sentiment\":[\"POSITIVE\",\"POSITIVE\",\"POSITIVE\",\"POSITIVE\",\"POSITIVE\",\"POSITIVE\",\"POSITIVE\",\"POSITIVE\",\"POSITIVE\",\"POSITIVE\",\"POSITIVE\",\"POSITIVE\",\"POSITIVE\",\"POSITIVE\"],\"text\":[\"This is an unprecedented development for this country.\",\"You just laid out beautifully the power of allegation you laid out beautifully the power of investigation.\",\"Well, I appreciate you being with us on Tucker Carlson.\",\"Thank you so much.\",\"I I think they're delighted.\",\"He believes all publicity is good publicity and that hardcore Trump group, 35% of the electorate, is going to be electrified by this.\",\"I think he's having a good day, actually.\",\"This is a very good day for Donald Trump.\",\"I think he's having a good day as of now.\",\"Yeah, no, that's very interesting, the messaging from Republicans, they're seeing maybe benefit going into the midterms on this.\",\"Surprised.\",\"Yes.\",\"I think to him, this is a good day.\",\"He's got the momentum he needs, the bases rallied around him, and I'd expect an announcement.\"]},\"selected\":{\"id\":\"1068\"},\"selection_policy\":{\"id\":\"1158\"}},\"id\":\"1067\",\"type\":\"ColumnDataSource\"},{\"attributes\":{},\"id\":\"1142\",\"type\":\"StringEditor\"},{\"attributes\":{},\"id\":\"1086\",\"type\":\"StringEditor\"},{\"attributes\":{\"editor\":{\"id\":\"1142\"},\"field\":\"dataset\",\"formatter\":{\"id\":\"1141\"},\"title\":\"dataset\",\"width\":0},\"id\":\"1143\",\"type\":\"TableColumn\"},{\"attributes\":{\"editor\":{\"id\":\"1086\"},\"field\":\"dataset\",\"formatter\":{\"id\":\"1085\"},\"title\":\"dataset\",\"width\":0},\"id\":\"1087\",\"type\":\"TableColumn\"},{\"attributes\":{\"callback\":null,\"renderers\":[{\"id\":\"1047\"}],\"tags\":[\"hv_created\"],\"tooltips\":[[\"sentiment\",\"@{sentiment}\"],[\"dataset\",\"@{dataset}\"],[\"Sentiment Counts\",\"@{Sentiment_Counts}\"]]},\"id\":\"1010\",\"type\":\"HoverTool\"},{\"attributes\":{\"factors\":[[\"NEUTRAL\",\"cnn\"],[\"NEUTRAL\",\"fox\"],[\"NEGATIVE\",\"cnn\"],[\"NEGATIVE\",\"fox\"],[\"POSITIVE\",\"cnn\"],[\"POSITIVE\",\"fox\"]],\"tags\":[[[\"sentiment\",\"sentiment\",null],[\"dataset\",\"dataset\",null]]]},\"id\":\"1008\",\"type\":\"FactorRange\"},{\"attributes\":{\"indices\":[]},\"id\":\"1096\",\"type\":\"Selection\"},{\"attributes\":{\"text_align\":\"left\"},\"id\":\"1097\",\"type\":\"NumberFormatter\"},{\"attributes\":{},\"id\":\"1016\",\"type\":\"CategoricalScale\"},{\"attributes\":{\"data\":{\"dataset\":[\"fox\",\"fox\",\"fox\",\"fox\",\"fox\",\"fox\",\"fox\",\"fox\",\"fox\",\"fox\",\"fox\",\"fox\",\"fox\",\"fox\",\"fox\",\"fox\",\"fox\",\"fox\",\"fox\",\"fox\",\"cnn\",\"cnn\",\"cnn\",\"cnn\",\"cnn\",\"cnn\",\"cnn\",\"cnn\",\"cnn\",\"cnn\",\"cnn\",\"cnn\",\"cnn\",\"cnn\",\"cnn\",\"cnn\",\"cnn\",\"cnn\",\"cnn\",\"cnn\",\"cnn\",\"cnn\",\"cnn\",\"cnn\",\"cnn\",\"cnn\",\"cnn\",\"cnn\",\"cnn\",\"cnn\",\"cnn\",\"cnn\",\"cnn\",\"cnn\"],\"index\":[4,7,8,9,10,11,12,18,19,20,21,31,42,45,46,47,51,53,55,59,11,13,14,22,23,34,38,40,47,53,61,66,68,69,71,73,74,75,82,85,86,93,95,97,99,100,101,103,105,106,107,108,112,113],\"sentiment\":[\"NEGATIVE\",\"NEGATIVE\",\"NEGATIVE\",\"NEGATIVE\",\"NEGATIVE\",\"NEGATIVE\",\"NEGATIVE\",\"NEGATIVE\",\"NEGATIVE\",\"NEGATIVE\",\"NEGATIVE\",\"NEGATIVE\",\"NEGATIVE\",\"NEGATIVE\",\"NEGATIVE\",\"NEGATIVE\",\"NEGATIVE\",\"NEGATIVE\",\"NEGATIVE\",\"NEGATIVE\",\"NEGATIVE\",\"NEGATIVE\",\"NEGATIVE\",\"NEGATIVE\",\"NEGATIVE\",\"NEGATIVE\",\"NEGATIVE\",\"NEGATIVE\",\"NEGATIVE\",\"NEGATIVE\",\"NEGATIVE\",\"NEGATIVE\",\"NEGATIVE\",\"NEGATIVE\",\"NEGATIVE\",\"NEGATIVE\",\"NEGATIVE\",\"NEGATIVE\",\"NEGATIVE\",\"NEGATIVE\",\"NEGATIVE\",\"NEGATIVE\",\"NEGATIVE\",\"NEGATIVE\",\"NEGATIVE\",\"NEGATIVE\",\"NEGATIVE\",\"NEGATIVE\",\"NEGATIVE\",\"NEGATIVE\",\"NEGATIVE\",\"NEGATIVE\",\"NEGATIVE\",\"NEGATIVE\"],\"text\":[\"This is an abomination.\",\"From the leaks we've seen when Hillary Clinton used an offbook server for years to conduct classified state business and at the same time money was being funneled by the millions into the Clinton Foundation with the very people she was doing business with that to this day has never been investigated.\",\"Not by the FBI, not by the IRS, not by anybody.\",\"We are truly living in a situation where the FBI has become a Praetorian guard from Rome, where they take it unto themselves to decide who wields power in this country.\",\"You know, Steven, I can't help but notice that for all that Trump was accused, it seems that Biden is intent on embodying.\",\"It was said that Donald Trump would, quote, lock her up.\",\"That did not happen.\",\"Collusion hoax.\",\"Let's not forget for years of our national life, the official position of the government, of the Beltway class of the media was that he had conspired illegally with the government of Russia until that was completely and wholly debunked.\",\"Let us not forget the security state leak that was used to improperly and scandalously impeach him for simply trying to get to the bottom of, wellknown, corruption in Ukraine.\",\"Let's not forget the completely fabricated story about Russian bounties that was dropped right before the election.\",\"What occurred over the last four years amounted to nothing.\",\"But to impeach any and every official who is involved in wrongdoing.\",\"Because, as you said, the damage an investigation, a false investigation can do is beyond imagination.\",\"And to live under the clouds for years of these fake investigations is not merely an attack on Donald J.\",\"Trump, but an attack on every single American who participated in democracy to make him president.\",\"The American people have lost trust in institutions media, science, medical, FBI, intelligence agencies.\",\"Well, look, people look at Steve Bannon and Peter Navarro facing jail, eric Holder walking free, and they see that there is a double justice system, one for people that support the regime and one that are opposed to it.\",\"Yes, it's a violent attack on the economic welfare of our middle class, but it's also an ability to police speech in America, because what does the IRS do?\",\"It's very frightening, I will tell you.\",\"You see this as serious on many levels.\",\"If we're talking about it being vital national security documents, I don't think that we can forget that those even if it's top secret, that means it could pose a grave national security risk if it's in the wrong hands or made out into the public.\",\"This, I'm hoping, goes beyond simply not complying with some archiving laws or DOJ just handed Donald Trump the Republican nominee and potentially the presidency if it's seen as some sort of massive overreach and not something incredibly serious.\",\"This is a banana republic.\",\"This shouldn't happen.\",\"I mean, he basically said it was the deep state, which totally triggers and animates the people who not only who like him, but there was concern, according to people around Trump that he had, that he was losing some mojo, he was having some trouble raising money.\",\"I mean, every investigation into him is a political hoax.\",\"But I do agree with Alyssa that it will look bad if this is dotting the I's crossing the T's type of thing on a classified document concealing type of crime.\",\"Remember, this is a guy who's flushing documents down the toilet.\",\"But you're right that it's really hard to imagine, especially given what we have seen within the DOJ over the past, you know, several years, that they did not do this without it being buttoned up and beyond just the National Archives of the documents that he took, unless it's really relevant to a larger thing.\",\"This is really an end of the signaling to the most rapid base that we agree with your paranoia.\",\"Well, we haven't heard right.\",\"We have heard from a lot of Republicans who don't know anything about what they're talking about.\",\"They are spouting off following Donald Trump, attacking the DOJ without any idea what the basis for this search warrant is.\",\"And the fact that Kevin McCarthy would issue that statement in such an antagonistic and inflammatory way against Merrick Garland.\",\"Of course not.\",\"It is completely politicized.\",\"He has consistently undermined the rule of law and we need to see what Merrick Garland actually, let me ask Daniel, because Merrick Garland, he must have known that this type of thing would be coming.\",\"But I think Merrick Garland has been, he's been ridiculed by the left for going so slowly.\",\"And some people are both sides are not going to like it.\",\"He's going to get attacked.\",\"So he's been dragging it out and the question is why?\",\"Why has he not let his lawyers say, OK, here are the documents you've been asking for?\",\"Just leaving this out there lets the sort of moment that you refer to in the country just percolate and become more dangerous, and you see more of kind of extremist rhetoric on different sides.\",\"This is a banana republic.\",\"This is a witch hunt.\",\"The FBI is completely politicized.\",\"But they're going to be handcuffed in this whole process because everything that's said by the government will be discounted by Trump.\",\"This is going to become one of those terrible incidents where, as you said, it's going to get dragged out for a long time.\",\"It is dangerous.\",\"These folks are often inspired to plan violence or conduct violence.\",\"So I think Trump is, again, playing with fire, but he's always proven that he's willing to do that, and he's going to drag this out.\",\"He also has the lying advantage.\",\"The government's not going to lie, but Donald Trump will lie profusely right.\"]},\"selected\":{\"id\":\"1096\"},\"selection_policy\":{\"id\":\"1160\"}},\"id\":\"1095\",\"type\":\"ColumnDataSource\"},{\"attributes\":{\"end\":89.8,\"reset_end\":89.8,\"reset_start\":0.0,\"tags\":[[[\"Sentiment Counts\",\"Sentiment Counts\",null]]]},\"id\":\"1009\",\"type\":\"Range1d\"},{\"attributes\":{\"coordinates\":null,\"group\":null,\"text\":\"Sentences by Sentiment Category\",\"text_color\":\"black\",\"text_font_size\":\"12pt\"},\"id\":\"1012\",\"type\":\"Title\"},{\"attributes\":{\"child\":{\"id\":\"1090\"},\"name\":\"\",\"title\":\"Positive\"},\"id\":\"1094\",\"type\":\"Panel\"},{\"attributes\":{\"editor\":{\"id\":\"1099\"},\"field\":\"index\",\"formatter\":{\"id\":\"1097\"},\"title\":\"index\",\"width\":0},\"id\":\"1100\",\"type\":\"TableColumn\"},{\"attributes\":{\"source\":{\"id\":\"1123\"}},\"id\":\"1148\",\"type\":\"CDSView\"},{\"attributes\":{\"autosize_mode\":\"fit_columns\",\"columns\":[{\"id\":\"1100\"},{\"id\":\"1105\"},{\"id\":\"1110\"},{\"id\":\"1115\"}],\"editable\":true,\"height\":300,\"index_position\":null,\"margin\":[5,10,5,10],\"name\":\"\",\"row_height\":40,\"sizing_mode\":\"fixed\",\"source\":{\"id\":\"1095\"},\"view\":{\"id\":\"1120\"},\"width\":1000},\"id\":\"1118\",\"type\":\"DataTable\"},{\"attributes\":{\"source\":{\"id\":\"1095\"}},\"id\":\"1120\",\"type\":\"CDSView\"},{\"attributes\":{},\"id\":\"1099\",\"type\":\"CellEditor\"},{\"attributes\":{},\"id\":\"1051\",\"type\":\"CategoricalTickFormatter\"},{\"attributes\":{},\"id\":\"1103\",\"type\":\"StringFormatter\"},{\"attributes\":{},\"id\":\"1104\",\"type\":\"StringEditor\"},{\"attributes\":{\"editor\":{\"id\":\"1104\"},\"field\":\"text\",\"formatter\":{\"id\":\"1103\"},\"title\":\"text\",\"width\":0},\"id\":\"1105\",\"type\":\"TableColumn\"},{\"attributes\":{\"below\":[{\"id\":\"1020\"}],\"center\":[{\"id\":\"1022\"},{\"id\":\"1026\"}],\"height\":300,\"left\":[{\"id\":\"1023\"}],\"margin\":[5,5,5,5],\"min_border_bottom\":10,\"min_border_left\":10,\"min_border_right\":10,\"min_border_top\":10,\"renderers\":[{\"id\":\"1047\"}],\"sizing_mode\":\"fixed\",\"title\":{\"id\":\"1012\"},\"toolbar\":{\"id\":\"1033\"},\"width\":700,\"x_range\":{\"id\":\"1008\"},\"x_scale\":{\"id\":\"1016\"},\"y_range\":{\"id\":\"1009\"},\"y_scale\":{\"id\":\"1018\"}},\"id\":\"1011\",\"subtype\":\"Figure\",\"type\":\"Plot\"},{\"attributes\":{},\"id\":\"1055\",\"type\":\"AllLabels\"},{\"attributes\":{\"data\":{\"Sentiment_Counts\":[82,34,10,42,20,4],\"dataset\":[\"cnn\",\"cnn\",\"cnn\",\"fox\",\"fox\",\"fox\"],\"sentiment\":[\"NEUTRAL\",\"NEGATIVE\",\"POSITIVE\",\"NEUTRAL\",\"NEGATIVE\",\"POSITIVE\"],\"xoffsets\":[[\"NEUTRAL\",\"cnn\"],[\"NEGATIVE\",\"cnn\"],[\"POSITIVE\",\"cnn\"],[\"NEUTRAL\",\"fox\"],[\"NEGATIVE\",\"fox\"],[\"POSITIVE\",\"fox\"]]},\"selected\":{\"id\":\"1042\"},\"selection_policy\":{\"id\":\"1063\"}},\"id\":\"1041\",\"type\":\"ColumnDataSource\"},{\"attributes\":{},\"id\":\"1108\",\"type\":\"StringFormatter\"},{\"attributes\":{\"source\":{\"id\":\"1041\"}},\"id\":\"1048\",\"type\":\"CDSView\"},{\"attributes\":{},\"id\":\"1109\",\"type\":\"StringEditor\"},{\"attributes\":{\"editor\":{\"id\":\"1109\"},\"field\":\"sentiment\",\"formatter\":{\"id\":\"1108\"},\"title\":\"sentiment\",\"width\":0},\"id\":\"1110\",\"type\":\"TableColumn\"},{\"attributes\":{},\"id\":\"1158\",\"type\":\"UnionRenderers\"},{\"attributes\":{},\"id\":\"1063\",\"type\":\"UnionRenderers\"},{\"attributes\":{\"bottom_units\":\"screen\",\"coordinates\":null,\"fill_alpha\":0.5,\"fill_color\":\"lightgrey\",\"group\":null,\"left_units\":\"screen\",\"level\":\"overlay\",\"line_alpha\":1.0,\"line_color\":\"black\",\"line_dash\":[4,4],\"line_width\":2,\"right_units\":\"screen\",\"syncable\":false,\"top_units\":\"screen\"},\"id\":\"1032\",\"type\":\"BoxAnnotation\"}],\"root_ids\":[\"1007\",\"1199\"]},\"title\":\"Bokeh Application\",\"version\":\"2.4.3\"}};\n    var render_items = [{\"docid\":\"5379ae5e-66d5-43ad-b4a0-b1a782f8621d\",\"root_ids\":[\"1007\"],\"roots\":{\"1007\":\"e8ffadb5-3cb0-4caa-9ac1-6fa2c7e3295a\"}}];\n    root.Bokeh.embed.embed_items_notebook(docs_json, render_items);\n  }\n  if (root.Bokeh !== undefined && root.Bokeh.Panel !== undefined) {\n    embed_document(root);\n  } else {\n    var attempts = 0;\n    var timer = setInterval(function(root) {\n      if (root.Bokeh !== undefined && root.Bokeh.Panel !== undefined) {\n        clearInterval(timer);\n        embed_document(root);\n      } else if (document.readyState == \"complete\") {\n        attempts++;\n        if (attempts > 200) {\n          clearInterval(timer);\n          console.log(\"Bokeh: ERROR: Unable to run BokehJS code because BokehJS library is missing\");\n        }\n      }\n    }, 25, root)\n  }\n})(window);</script>",
      "application/vnd.holoviews_exec.v0+json": "",
      "text/plain": "Tabs\n    [0] HoloViews(Bars, name='Sentiment Overview')\n    [1] DataFrame(autosize_mode='fit_columns', height=300, sizing_mode='fixed', value=                          ..., width=1000)\n    [2] DataFrame(autosize_mode='fit_columns', height=300, sizing_mode='fixed', value=                          ..., width=1000)\n    [3] DataFrame(autosize_mode='fit_columns', height=300, sizing_mode='fixed', value=                          ..., width=1000)"
     },
     "execution_count": 11,
     "metadata": {
      "application/vnd.holoviews_exec.v0+json": {
       "id": "1007"
      }
     },
     "output_type": "execute_result"
    }
   ],
   "source": [
    "\"\"\"\n",
    "Making sentiment plot\n",
    "\"\"\"\n",
    "#FOX Dataframes\n",
    "fox_sentiment = fox_data[\"sentiment_analysis_results\"]\n",
    "\n",
    "fox_sentiment_df = pd.DataFrame(fox_sentiment)\n",
    "fox_sentiment_df = fox_sentiment_df.assign(dataset='fox')\n",
    "\n",
    "#CNN Dataframes\n",
    "cnn_sentiment = cnn_data[\"sentiment_analysis_results\"]\n",
    "\n",
    "cnn_sentiment_df = pd.DataFrame(cnn_sentiment)\n",
    "cnn_sentiment_df = cnn_sentiment_df.assign(dataset='cnn')\n",
    "\n",
    "#Combine dataframes\n",
    "both_sentiment_df = pd.concat([fox_sentiment_df, cnn_sentiment_df])\n",
    "both_sentiment_df_grouped = both_sentiment_df.groupby(['dataset'])['sentiment'].value_counts().reset_index(\n",
    "    name='Sentiment Counts')\n",
    "\n",
    "#Bar plot\n",
    "sentiment_plot = both_sentiment_df_grouped.hvplot(x='sentiment', y='Sentiment Counts', by='dataset',\n",
    "                                                  title='Sentences by Sentiment Category', legend='top', kind='bar',\n",
    "                                                  color='Source', cmap=['blue', 'red'])\n",
    "pn.Row(sentiment_plot)\n",
    "\n",
    "positive_df = both_sentiment_df[both_sentiment_df[\"sentiment\"] == \"POSITIVE\"][[\"text\", \"sentiment\", 'dataset']]\n",
    "negative_df = both_sentiment_df[both_sentiment_df[\"sentiment\"] == \"NEGATIVE\"][[\"text\", \"sentiment\", 'dataset']]\n",
    "neutral_df = both_sentiment_df[both_sentiment_df[\"sentiment\"] == \"NEUTRAL\"][[\"text\", \"sentiment\", 'dataset']]\n",
    "\n",
    "sentiment_tabs = pn.Tabs(('Sentiment Overview', sentiment_plot),\n",
    "                         ('Positive', pn.widgets.DataFrame(positive_df, autosize_mode='fit_columns', width=1000,\n",
    "                                                           height=300)),\n",
    "                         ('Negative', pn.widgets.DataFrame(negative_df, autosize_mode='fit_columns', width=1000,\n",
    "                                                           height=300)),\n",
    "                         ('Neutral',\n",
    "                          pn.widgets.DataFrame(neutral_df, autosize_mode='fit_columns', width=1000, height=300))\n",
    "                         )\n",
    "sentiment_tabs"
   ],
   "metadata": {
    "collapsed": false,
    "pycharm": {
     "name": "#%%\n"
    }
   }
  },
  {
   "cell_type": "code",
   "execution_count": 12,
   "outputs": [
    {
     "data": {
      "text/plain": "'\\nMaking wordclouds\\n\\n#FOX WordCloud\\n\\n\\n#FOX text\\nfox_transcript = fox_data[\"text\"]\\nfox_transcript_lower = [item.lower() for item in str(fox_transcript).split()]\\nfox_all_words = \\' \\'.join(fox_transcript_lower)\\n\\n#Read mask image\\nfox_dir = os.getcwd() + \\'/Pics\\'\\nfox_mask = np.array(Image.open(path.join(fox_dir, \"fox.jpg\")))\\n\\n#Set stopwords\\nfox_stopwords = set(STOPWORDS)\\n\\n#Word cloud plot\\nfox_wordcloud = WordCloud(background_color=\\'black\\', max_words=2000, mask=fox_mask, stopwords=fox_stopwords,\\n                          contour_width=25, contour_color=\\'white\\', colormap=\\'Reds_r\\', width=1000, height=1000,\\n                          collocations=False)\\n\\n#Generate cloud\\nfox_wordcloud.generate(fox_all_words)\\n\\n#Store to file\\nfox_wordcloud.to_file(path.join(fox_dir, \"fox1.jpg\"))\\n\\n#Show\\nfox_plot = plt.imshow(fox_wordcloud, interpolation=\\'bilinear\\')\\nprint(\"FOX WordCloud: \\n\")\\nfox_plot\\n\\n\\n#CNN WordCloud\\n\\n#CNN text\\ncnn_transcript = cnn_data[\"text\"]\\ncnn_transcript_lower = [item.lower() for item in str(cnn_transcript).split()]\\ncnn_all_words = \\' \\'.join(cnn_transcript_lower)\\n\\n#Read mask image\\ncnn_dir = os.getcwd() + \\'/Pics\\'\\ncnn_mask = np.array(Image.open(path.join(cnn_dir, \"cnn.jpg\")))\\n\\n#Set stopwords\\ncnn_stopwords = set(STOPWORDS)\\n\\n#Word cloud plot\\ncnn_wordcloud = WordCloud(background_color=\\'black\\', max_words=2000, mask=cnn_mask, stopwords=cnn_stopwords,\\n                          contour_width=25, contour_color=\\'white\\', colormap=\\'Blues_r\\', width=1000, height=1000,\\n                          collocations=False)\\n\\n#Generate cloud\\ncnn_wordcloud.generate(cnn_all_words)\\n\\n#Store to file\\ncnn_wordcloud.to_file(path.join(cnn_dir, \"cnn1.jpg\"))\\n\\n#Show\\ncnn_plot = plt.imshow(cnn_wordcloud, aspect=\\'equal\\', interpolation=\\'bilinear\\', alpha=0.9)\\ncnn_plot\\nprint(\"CNN WordCloud: \\n\")\\ncnn_plot'"
     },
     "execution_count": 12,
     "metadata": {},
     "output_type": "execute_result"
    }
   ],
   "source": [
    "\"\"\"\n",
    "Making wordclouds\n",
    "\n",
    "#FOX WordCloud\n",
    "\n",
    "\n",
    "#FOX text\n",
    "fox_transcript = fox_data[\"text\"]\n",
    "fox_transcript_lower = [item.lower() for item in str(fox_transcript).split()]\n",
    "fox_all_words = ' '.join(fox_transcript_lower)\n",
    "\n",
    "#Read mask image\n",
    "fox_dir = os.getcwd() + '/Pics'\n",
    "fox_mask = np.array(Image.open(path.join(fox_dir, \"fox.jpg\")))\n",
    "\n",
    "#Set stopwords\n",
    "fox_stopwords = set(STOPWORDS)\n",
    "\n",
    "#Word cloud plot\n",
    "fox_wordcloud = WordCloud(background_color='black', max_words=2000, mask=fox_mask, stopwords=fox_stopwords,\n",
    "                          contour_width=25, contour_color='white', colormap='Reds_r', width=1000, height=1000,\n",
    "                          collocations=False)\n",
    "\n",
    "#Generate cloud\n",
    "fox_wordcloud.generate(fox_all_words)\n",
    "\n",
    "#Store to file\n",
    "fox_wordcloud.to_file(path.join(fox_dir, \"fox1.jpg\"))\n",
    "\n",
    "#Show\n",
    "fox_plot = plt.imshow(fox_wordcloud, interpolation='bilinear')\n",
    "print(\"FOX WordCloud: \\n\")\n",
    "fox_plot\n",
    "\n",
    "\n",
    "#CNN WordCloud\n",
    "\n",
    "#CNN text\n",
    "cnn_transcript = cnn_data[\"text\"]\n",
    "cnn_transcript_lower = [item.lower() for item in str(cnn_transcript).split()]\n",
    "cnn_all_words = ' '.join(cnn_transcript_lower)\n",
    "\n",
    "#Read mask image\n",
    "cnn_dir = os.getcwd() + '/Pics'\n",
    "cnn_mask = np.array(Image.open(path.join(cnn_dir, \"cnn.jpg\")))\n",
    "\n",
    "#Set stopwords\n",
    "cnn_stopwords = set(STOPWORDS)\n",
    "\n",
    "#Word cloud plot\n",
    "cnn_wordcloud = WordCloud(background_color='black', max_words=2000, mask=cnn_mask, stopwords=cnn_stopwords,\n",
    "                          contour_width=25, contour_color='white', colormap='Blues_r', width=1000, height=1000,\n",
    "                          collocations=False)\n",
    "\n",
    "#Generate cloud\n",
    "cnn_wordcloud.generate(cnn_all_words)\n",
    "\n",
    "#Store to file\n",
    "cnn_wordcloud.to_file(path.join(cnn_dir, \"cnn1.jpg\"))\n",
    "\n",
    "#Show\n",
    "cnn_plot = plt.imshow(cnn_wordcloud, aspect='equal', interpolation='bilinear', alpha=0.9)\n",
    "cnn_plot\n",
    "print(\"CNN WordCloud: \\n\")\n",
    "cnn_plot\"\"\""
   ],
   "metadata": {
    "collapsed": false,
    "pycharm": {
     "name": "#%%\n"
    }
   }
  },
  {
   "cell_type": "code",
   "execution_count": 13,
   "outputs": [
    {
     "data": {
      "text/plain": "'\\nController for words in wordclouds\\n\\n\\n#FOX Controller\\nclass FoxController(param.Parameterized):\\n    fox_word_slider = param.Integer(50, bounds=(50,700), step= 50)\\n\\ncontroller1 = FoxController()\\n\\n@pn.depends(controller1.param.fox_word_slider, watch=True)\\ndef update_fox_wordcloud(num_words):\\n    #Word cloud plot\\n    fox_word_cloud = WordCloud(background_color=\\'black\\', max_words = 2000, mask= fox_mask, stopwords= fox_stopwords, contour_width= 25, contour_color= \\'white\\', colormap= \\'Reds_r\\', width= 1000, height= 1000, collocations=False).generate(fox_all_words)\\n\\n    #Store to file\\n    fox_word_cloud.to_file(path.join(fox_dir, \"fox1.jpg\"))\\n\\n    #Show\\n    fox_word_cloud_plot = px.imshow(fox_word_cloud)\\n    fox_word_cloud_plot.update_xaxes(showticklabels=False)\\n    fox_word_cloud_plot.update_yaxes(showticklabels=False)\\n    return fox_word_cloud_plot\\n\\n#CNN Controller\\nclass CnnController(param.Parameterized):\\n    cnn_word_slider = param.Integer(50, bounds=(50,700), step= 50)\\n\\ncontroller2 = CnnController()\\n\\n@pn.depends(controller2.param.cnn_word_slider, watch=True)\\ndef update_cnn_wordcloud(num_words):\\n    #Word Cloud plot\\n    cnn_word_cloud = WordCloud(background_color=\\'black\\', max_words = 2000, mask= cnn_mask, stopwords= cnn_stopwords, contour_width= 25, contour_color= \\'white\\', colormap= \\'Blues_r\\', width= 1000, height= 1000, collocations=False).generate(cnn_all_words)\\n\\n    #Store to file\\n    cnn_word_cloud.to_file(path.join(cnn_dir, \"cnn1.jpg\"))\\n\\n    #Show\\n    cnn_word_cloud_plot = px.imshow(cnn_word_cloud)\\n    cnn_word_cloud_plot.update_xaxes(showticklabels=False)\\n    cnn_word_cloud_plot.update_yaxes(showticklabels=False)\\n    return cnn_word_cloud_plot'"
     },
     "execution_count": 13,
     "metadata": {},
     "output_type": "execute_result"
    }
   ],
   "source": [
    "\"\"\"\n",
    "Controller for words in wordclouds\n",
    "\n",
    "\n",
    "#FOX Controller\n",
    "class FoxController(param.Parameterized):\n",
    "    fox_word_slider = param.Integer(50, bounds=(50,700), step= 50)\n",
    "\n",
    "controller1 = FoxController()\n",
    "\n",
    "@pn.depends(controller1.param.fox_word_slider, watch=True)\n",
    "def update_fox_wordcloud(num_words):\n",
    "    #Word cloud plot\n",
    "    fox_word_cloud = WordCloud(background_color='black', max_words = 2000, mask= fox_mask, stopwords= fox_stopwords, contour_width= 25, contour_color= 'white', colormap= 'Reds_r', width= 1000, height= 1000, collocations=False).generate(fox_all_words)\n",
    "\n",
    "    #Store to file\n",
    "    fox_word_cloud.to_file(path.join(fox_dir, \"fox1.jpg\"))\n",
    "\n",
    "    #Show\n",
    "    fox_word_cloud_plot = px.imshow(fox_word_cloud)\n",
    "    fox_word_cloud_plot.update_xaxes(showticklabels=False)\n",
    "    fox_word_cloud_plot.update_yaxes(showticklabels=False)\n",
    "    return fox_word_cloud_plot\n",
    "\n",
    "#CNN Controller\n",
    "class CnnController(param.Parameterized):\n",
    "    cnn_word_slider = param.Integer(50, bounds=(50,700), step= 50)\n",
    "\n",
    "controller2 = CnnController()\n",
    "\n",
    "@pn.depends(controller2.param.cnn_word_slider, watch=True)\n",
    "def update_cnn_wordcloud(num_words):\n",
    "    #Word Cloud plot\n",
    "    cnn_word_cloud = WordCloud(background_color='black', max_words = 2000, mask= cnn_mask, stopwords= cnn_stopwords, contour_width= 25, contour_color= 'white', colormap= 'Blues_r', width= 1000, height= 1000, collocations=False).generate(cnn_all_words)\n",
    "\n",
    "    #Store to file\n",
    "    cnn_word_cloud.to_file(path.join(cnn_dir, \"cnn1.jpg\"))\n",
    "\n",
    "    #Show\n",
    "    cnn_word_cloud_plot = px.imshow(cnn_word_cloud)\n",
    "    cnn_word_cloud_plot.update_xaxes(showticklabels=False)\n",
    "    cnn_word_cloud_plot.update_yaxes(showticklabels=False)\n",
    "    return cnn_word_cloud_plot\"\"\""
   ],
   "metadata": {
    "collapsed": false,
    "pycharm": {
     "name": "#%%\n"
    }
   }
  },
  {
   "cell_type": "code",
   "execution_count": 14,
   "outputs": [
    {
     "name": "stdout",
     "output_type": "stream",
     "text": [
      "FOX Chapter Audio:  \n",
      "\n",
      "\n",
      "CNN Chapter Audio: \n",
      "\n",
      "\n"
     ]
    },
    {
     "data": {},
     "metadata": {},
     "output_type": "display_data"
    },
    {
     "data": {
      "text/html": "<div id='1280'>\n  <div class=\"bk-root\" id=\"50c9ef10-7f9a-4fcd-a5b6-88193fce00ad\" data-root-id=\"1280\"></div>\n</div>\n<script type=\"application/javascript\">(function(root) {\n  function embed_document(root) {\n    var docs_json = {\"f3b4c477-ad8b-49e5-b503-0b6f2d761e04\":{\"defs\":[{\"extends\":null,\"module\":null,\"name\":\"ReactiveHTML1\",\"overrides\":[],\"properties\":[]},{\"extends\":null,\"module\":null,\"name\":\"FlexBox1\",\"overrides\":[],\"properties\":[{\"default\":\"flex-start\",\"kind\":null,\"name\":\"align_content\"},{\"default\":\"flex-start\",\"kind\":null,\"name\":\"align_items\"},{\"default\":\"row\",\"kind\":null,\"name\":\"flex_direction\"},{\"default\":\"wrap\",\"kind\":null,\"name\":\"flex_wrap\"},{\"default\":\"flex-start\",\"kind\":null,\"name\":\"justify_content\"}]},{\"extends\":null,\"module\":null,\"name\":\"GridStack1\",\"overrides\":[],\"properties\":[{\"default\":\"warn\",\"kind\":null,\"name\":\"mode\"},{\"default\":null,\"kind\":null,\"name\":\"ncols\"},{\"default\":null,\"kind\":null,\"name\":\"nrows\"},{\"default\":true,\"kind\":null,\"name\":\"allow_resize\"},{\"default\":true,\"kind\":null,\"name\":\"allow_drag\"},{\"default\":[],\"kind\":null,\"name\":\"state\"}]},{\"extends\":null,\"module\":null,\"name\":\"click1\",\"overrides\":[],\"properties\":[{\"default\":\"\",\"kind\":null,\"name\":\"terminal_output\"},{\"default\":\"\",\"kind\":null,\"name\":\"debug_name\"},{\"default\":0,\"kind\":null,\"name\":\"clears\"}]},{\"extends\":null,\"module\":null,\"name\":\"NotificationAreaBase1\",\"overrides\":[],\"properties\":[{\"default\":\"bottom-right\",\"kind\":null,\"name\":\"position\"},{\"default\":0,\"kind\":null,\"name\":\"_clear\"}]},{\"extends\":null,\"module\":null,\"name\":\"NotificationArea1\",\"overrides\":[],\"properties\":[{\"default\":[],\"kind\":null,\"name\":\"notifications\"},{\"default\":\"bottom-right\",\"kind\":null,\"name\":\"position\"},{\"default\":0,\"kind\":null,\"name\":\"_clear\"},{\"default\":[{\"background\":\"#ffc107\",\"icon\":{\"className\":\"fas fa-exclamation-triangle\",\"color\":\"white\",\"tagName\":\"i\"},\"type\":\"warning\"},{\"background\":\"#007bff\",\"icon\":{\"className\":\"fas fa-info-circle\",\"color\":\"white\",\"tagName\":\"i\"},\"type\":\"info\"}],\"kind\":null,\"name\":\"types\"}]},{\"extends\":null,\"module\":null,\"name\":\"Notification\",\"overrides\":[],\"properties\":[{\"default\":null,\"kind\":null,\"name\":\"background\"},{\"default\":3000,\"kind\":null,\"name\":\"duration\"},{\"default\":null,\"kind\":null,\"name\":\"icon\"},{\"default\":\"\",\"kind\":null,\"name\":\"message\"},{\"default\":null,\"kind\":null,\"name\":\"notification_type\"},{\"default\":false,\"kind\":null,\"name\":\"_destroyed\"}]},{\"extends\":null,\"module\":null,\"name\":\"TemplateActions1\",\"overrides\":[],\"properties\":[{\"default\":0,\"kind\":null,\"name\":\"open_modal\"},{\"default\":0,\"kind\":null,\"name\":\"close_modal\"}]},{\"extends\":null,\"module\":null,\"name\":\"MaterialTemplateActions1\",\"overrides\":[],\"properties\":[{\"default\":0,\"kind\":null,\"name\":\"open_modal\"},{\"default\":0,\"kind\":null,\"name\":\"close_modal\"}]}],\"roots\":{\"references\":[{\"attributes\":{\"margin\":[5,5,5,5],\"paused\":true,\"value\":\"https://github.com/DominicTheAnalyst/Fox-CNN-Analysis/blob/main/CNN_Analysis_FBI_Raid.mp3?raw=true\"},\"id\":\"1280\",\"type\":\"panel.models.widgets.Audio\"},{\"attributes\":{\"client_comm_id\":\"c7e7700fc304407b9b44bffd66677b03\",\"comm_id\":\"4c25186077c24fa3905d5b2d1fba8b5b\",\"plot_id\":\"1280\"},\"id\":\"1281\",\"type\":\"panel.models.comm_manager.CommManager\"}],\"root_ids\":[\"1280\",\"1281\"]},\"title\":\"Bokeh Application\",\"version\":\"2.4.3\"}};\n    var render_items = [{\"docid\":\"f3b4c477-ad8b-49e5-b503-0b6f2d761e04\",\"root_ids\":[\"1280\"],\"roots\":{\"1280\":\"50c9ef10-7f9a-4fcd-a5b6-88193fce00ad\"}}];\n    root.Bokeh.embed.embed_items_notebook(docs_json, render_items);\n  }\n  if (root.Bokeh !== undefined && root.Bokeh.Panel !== undefined) {\n    embed_document(root);\n  } else {\n    var attempts = 0;\n    var timer = setInterval(function(root) {\n      if (root.Bokeh !== undefined && root.Bokeh.Panel !== undefined) {\n        clearInterval(timer);\n        embed_document(root);\n      } else if (document.readyState == \"complete\") {\n        attempts++;\n        if (attempts > 200) {\n          clearInterval(timer);\n          console.log(\"Bokeh: ERROR: Unable to run BokehJS code because BokehJS library is missing\");\n        }\n      }\n    }, 25, root)\n  }\n})(window);</script>",
      "application/vnd.holoviews_exec.v0+json": "",
      "text/plain": "Audio(str)"
     },
     "execution_count": 14,
     "metadata": {
      "application/vnd.holoviews_exec.v0+json": {
       "id": "1280"
      }
     },
     "output_type": "execute_result"
    }
   ],
   "source": [
    "\"\"\"\n",
    "Create autochapters\n",
    "\"\"\"\n",
    "#FOX auto chapters\n",
    "\n",
    "#Get fox chapter headers and summary\n",
    "fox_chapters = fox_data[\"chapters\"]\n",
    "fox_chapter_summary = pn.widgets.StaticText(value=fox_chapters[0]['summary'], width=1000, height_policy='fit')\n",
    "\n",
    "#Make play start button and set audio to play in time frame\n",
    "fox_button = pn.widgets.Button(name=str(int(fox_chapters[0]['start'] / 1000)), button_type='primary')\n",
    "fox_chapter_audio = pn.pane.Audio(fox_audio_url, name='Audio', time=round(fox_chapters[0]['start'] / 1000))\n",
    "print(\"FOX Chapter Audio:  \\n\\n\")\n",
    "fox_chapter_audio\n",
    "\n",
    "#CNN auto chapters\n",
    "\n",
    "#Get CNN chapter headers and summary\n",
    "cnn_chapters = cnn_data[\"chapters\"]\n",
    "cnn_chapter_summary = pn.widgets.StaticText(value=cnn_chapters[0]['summary'], width=1000, height_policy='fit')\n",
    "\n",
    "#Make play start button and set audio to play in time frame\n",
    "cnn_button = pn.widgets.Button(name=str(int(cnn_chapters[0]['start'] / 1000)), button_type='primary')\n",
    "cnn_chapter_audio = pn.pane.Audio(cnn_audio_url, name='Audio', time=round(cnn_chapters[0]['start'] / 1000))\n",
    "print(\"CNN Chapter Audio: \\n\\n\")\n",
    "cnn_chapter_audio"
   ],
   "metadata": {
    "collapsed": false,
    "pycharm": {
     "name": "#%%\n"
    }
   }
  },
  {
   "cell_type": "code",
   "execution_count": 15,
   "outputs": [],
   "source": [
    "#Class to make button usable with audio player\n",
    "class ButtonAudio():\n",
    "\n",
    "    def __init__(self, start_time):\n",
    "\n",
    "        self.start_time = start_time\n",
    "\n",
    "        #FOX\n",
    "        self.fox_button = pn.widgets.Button(name=str(int(self.start_time/1000)), button_type= 'primary', width= 60)\n",
    "        self.fox_chapter_audio = pn.pane.Audio(fox_audio_url, name='Audio', time= round(self.start_time/1000))\n",
    "        self.fox_button.on_click(self.fox_move_audio_head)\n",
    "\n",
    "        #CNN\n",
    "        self.cnn_button = pn.widgets.Button(name=str(int(self.start_time/1000)), button_type= 'primary', width= 60)\n",
    "        self.cnn_chapter_audio = pn.pane.Audio(cnn_audio_url, name='Audio', time= round(self.start_time/1000))\n",
    "        self.cnn_button.on_click(self.cnn_move_audio_head)\n",
    "\n",
    "    def fox_move_audio_head(self, event):\n",
    "\n",
    "        self.fox_chapter_audio.time = self.start_time/1000\n",
    "\n",
    "    def cnn_move_audio_head(self, event):\n",
    "\n",
    "        self.cnn_chapter_audio.time = self.start_time/1000"
   ],
   "metadata": {
    "collapsed": false,
    "pycharm": {
     "name": "#%%\n"
    }
   }
  },
  {
   "cell_type": "code",
   "execution_count": 16,
   "outputs": [
    {
     "data": {},
     "metadata": {},
     "output_type": "display_data"
    },
    {
     "data": {
      "text/html": "<div id='1282'>\n  <div class=\"bk-root\" id=\"09299d17-6aec-4ed2-b339-1de4540d322e\" data-root-id=\"1282\"></div>\n</div>\n<script type=\"application/javascript\">(function(root) {\n  function embed_document(root) {\n    var docs_json = {\"0f9cfbd4-ff13-4e69-b4a8-16a28df5bb6d\":{\"defs\":[{\"extends\":null,\"module\":null,\"name\":\"ReactiveHTML1\",\"overrides\":[],\"properties\":[]},{\"extends\":null,\"module\":null,\"name\":\"FlexBox1\",\"overrides\":[],\"properties\":[{\"default\":\"flex-start\",\"kind\":null,\"name\":\"align_content\"},{\"default\":\"flex-start\",\"kind\":null,\"name\":\"align_items\"},{\"default\":\"row\",\"kind\":null,\"name\":\"flex_direction\"},{\"default\":\"wrap\",\"kind\":null,\"name\":\"flex_wrap\"},{\"default\":\"flex-start\",\"kind\":null,\"name\":\"justify_content\"}]},{\"extends\":null,\"module\":null,\"name\":\"GridStack1\",\"overrides\":[],\"properties\":[{\"default\":\"warn\",\"kind\":null,\"name\":\"mode\"},{\"default\":null,\"kind\":null,\"name\":\"ncols\"},{\"default\":null,\"kind\":null,\"name\":\"nrows\"},{\"default\":true,\"kind\":null,\"name\":\"allow_resize\"},{\"default\":true,\"kind\":null,\"name\":\"allow_drag\"},{\"default\":[],\"kind\":null,\"name\":\"state\"}]},{\"extends\":null,\"module\":null,\"name\":\"click1\",\"overrides\":[],\"properties\":[{\"default\":\"\",\"kind\":null,\"name\":\"terminal_output\"},{\"default\":\"\",\"kind\":null,\"name\":\"debug_name\"},{\"default\":0,\"kind\":null,\"name\":\"clears\"}]},{\"extends\":null,\"module\":null,\"name\":\"NotificationAreaBase1\",\"overrides\":[],\"properties\":[{\"default\":\"bottom-right\",\"kind\":null,\"name\":\"position\"},{\"default\":0,\"kind\":null,\"name\":\"_clear\"}]},{\"extends\":null,\"module\":null,\"name\":\"NotificationArea1\",\"overrides\":[],\"properties\":[{\"default\":[],\"kind\":null,\"name\":\"notifications\"},{\"default\":\"bottom-right\",\"kind\":null,\"name\":\"position\"},{\"default\":0,\"kind\":null,\"name\":\"_clear\"},{\"default\":[{\"background\":\"#ffc107\",\"icon\":{\"className\":\"fas fa-exclamation-triangle\",\"color\":\"white\",\"tagName\":\"i\"},\"type\":\"warning\"},{\"background\":\"#007bff\",\"icon\":{\"className\":\"fas fa-info-circle\",\"color\":\"white\",\"tagName\":\"i\"},\"type\":\"info\"}],\"kind\":null,\"name\":\"types\"}]},{\"extends\":null,\"module\":null,\"name\":\"Notification\",\"overrides\":[],\"properties\":[{\"default\":null,\"kind\":null,\"name\":\"background\"},{\"default\":3000,\"kind\":null,\"name\":\"duration\"},{\"default\":null,\"kind\":null,\"name\":\"icon\"},{\"default\":\"\",\"kind\":null,\"name\":\"message\"},{\"default\":null,\"kind\":null,\"name\":\"notification_type\"},{\"default\":false,\"kind\":null,\"name\":\"_destroyed\"}]},{\"extends\":null,\"module\":null,\"name\":\"TemplateActions1\",\"overrides\":[],\"properties\":[{\"default\":0,\"kind\":null,\"name\":\"open_modal\"},{\"default\":0,\"kind\":null,\"name\":\"close_modal\"}]},{\"extends\":null,\"module\":null,\"name\":\"MaterialTemplateActions1\",\"overrides\":[],\"properties\":[{\"default\":0,\"kind\":null,\"name\":\"open_modal\"},{\"default\":0,\"kind\":null,\"name\":\"close_modal\"}]}],\"roots\":{\"references\":[{\"attributes\":{\"button_type\":\"primary\",\"icon\":null,\"label\":\"0\",\"margin\":[5,10,5,10],\"min_width\":60,\"subscribed_events\":[\"button_click\"],\"width\":60},\"id\":\"1286\",\"type\":\"Button\"},{\"attributes\":{\"margin\":[5,5,5,5],\"paused\":true,\"value\":\"https://github.com/DominicTheAnalyst/Fox-CNN-Analysis/blob/main/CNN_Analysis_FBI_Raid.mp3?raw=true\"},\"id\":\"1303\",\"type\":\"panel.models.widgets.Audio\"},{\"attributes\":{\"button_type\":\"primary\",\"icon\":null,\"label\":\"0\",\"margin\":[5,10,5,10],\"min_width\":60,\"subscribed_events\":[\"button_click\"],\"width\":60},\"id\":\"1301\",\"type\":\"Button\"},{\"attributes\":{\"children\":[{\"id\":\"1295\"}],\"margin\":[0,0,0,0],\"name\":\"Column00988\"},\"id\":\"1294\",\"type\":\"Column\"},{\"attributes\":{\"css_classes\":[\"markdown\"],\"margin\":[5,5,5,5],\"name\":\"Markdown00966\",\"text\":\"&lt;h3&gt;CNN Audio Auto Chapter Summary&lt;/h3&gt;\"},\"id\":\"1298\",\"type\":\"panel.models.markup.HTML\"},{\"attributes\":{\"margin\":[5,5,5,5],\"paused\":true,\"time\":525,\"value\":\"https://github.com/DominicTheAnalyst/Fox-CNN-Analysis/blob/main/CNN_Analysis_FBI_Raid.mp3?raw=true\"},\"id\":\"1310\",\"type\":\"panel.models.widgets.Audio\"},{\"attributes\":{\"height_policy\":\"fit\",\"margin\":[5,10,5,10],\"name\":\"\",\"text\":\"Tucker Carlson asks Stephen Miller about the American people's attitude towards institutions that have been granted inherited credibility for decades. Congress has passed a bill to expand the IRS enforcement agency by 870 new agents. The IRS has the power to police speech in America and decide tax deductibility for nonprofits and political organizations.\",\"width\":1000},\"id\":\"1297\",\"type\":\"Div\"},{\"attributes\":{\"children\":[{\"id\":\"1297\"}],\"margin\":[0,0,0,0],\"name\":\"Column00989\"},\"id\":\"1296\",\"type\":\"Column\"},{\"attributes\":{\"children\":[{\"id\":\"1288\"}],\"margin\":[0,0,0,0],\"name\":\"Column00977\"},\"id\":\"1287\",\"type\":\"Column\"},{\"attributes\":{\"children\":[{\"id\":\"1307\"},{\"id\":\"1309\"},{\"id\":\"1311\"}],\"margin\":[0,0,0,0],\"name\":\"Row01012\"},\"id\":\"1306\",\"type\":\"Row\"},{\"attributes\":{\"children\":[{\"id\":\"1292\"},{\"id\":\"1294\"},{\"id\":\"1296\"}],\"margin\":[0,0,0,0],\"name\":\"Row00990\"},\"id\":\"1291\",\"type\":\"Row\"},{\"attributes\":{\"css_classes\":[\"markdown\"],\"margin\":[5,5,5,5],\"name\":\"Markdown00963\",\"text\":\"&lt;h3&gt;FOX Audio Auto Chapter Summary&lt;/h3&gt;\"},\"id\":\"1283\",\"type\":\"panel.models.markup.HTML\"},{\"attributes\":{\"children\":[{\"id\":\"1310\"}],\"margin\":[0,0,0,0],\"name\":\"Column01010\"},\"id\":\"1309\",\"type\":\"Column\"},{\"attributes\":{\"children\":[{\"id\":\"1308\"}],\"margin\":[0,0,0,0],\"name\":\"Column01009\"},\"id\":\"1307\",\"type\":\"Column\"},{\"attributes\":{\"height_policy\":\"fit\",\"margin\":[5,10,5,10],\"name\":\"\",\"text\":\"Stephen Miller is a former senior Trump advisor. He thinks that the FBI has become a Praetorian Guard from Rome, where they take it unto themselves to decide who wields power in this country. Stephen believes that for all that Donald Trump was accused, it seems that Joe Biden is intent on embodying what he was accused of. Stephen thinks that in the near term, there will have to be a cleaning house in the house.\",\"width\":1000},\"id\":\"1290\",\"type\":\"Div\"},{\"attributes\":{\"client_comm_id\":\"3c5e239794e5402b8c6f2ca4c8957abf\",\"comm_id\":\"dca8fabadbb94f0ea78c9dbde41ad934\",\"plot_id\":\"1282\"},\"id\":\"1313\",\"type\":\"panel.models.comm_manager.CommManager\"},{\"attributes\":{\"children\":[{\"id\":\"1303\"}],\"margin\":[0,0,0,0],\"name\":\"Column00999\"},\"id\":\"1302\",\"type\":\"Column\"},{\"attributes\":{\"children\":[{\"id\":\"1290\"}],\"margin\":[0,0,0,0],\"name\":\"Column00978\"},\"id\":\"1289\",\"type\":\"Column\"},{\"attributes\":{\"children\":[{\"id\":\"1293\"}],\"margin\":[0,0,0,0],\"name\":\"Column00987\"},\"id\":\"1292\",\"type\":\"Column\"},{\"attributes\":{\"height_policy\":\"fit\",\"margin\":[5,10,5,10],\"name\":\"\",\"text\":\"Donald Trump is delighted with the FBI raid on his documents. Trump is an expert at spinning everything into publicity. Donald Trump has been prepared for this strategy all along. Trump has used buzzwords like \\u201cdeep state\\u201d and \\u201dfascinating\\u201d in his statement about the raid.\",\"width\":1000},\"id\":\"1305\",\"type\":\"Div\"},{\"attributes\":{\"children\":[{\"id\":\"1283\"},{\"id\":\"1284\"},{\"id\":\"1291\"},{\"id\":\"1298\"},{\"id\":\"1299\"},{\"id\":\"1306\"}],\"margin\":[0,0,0,0],\"name\":\"Column00965\"},\"id\":\"1282\",\"type\":\"Column\"},{\"attributes\":{\"button_type\":\"primary\",\"icon\":null,\"label\":\"304\",\"margin\":[5,10,5,10],\"min_width\":60,\"subscribed_events\":[\"button_click\"],\"width\":60},\"id\":\"1293\",\"type\":\"Button\"},{\"attributes\":{\"children\":[{\"id\":\"1286\"}],\"margin\":[0,0,0,0],\"name\":\"Column00976\"},\"id\":\"1285\",\"type\":\"Column\"},{\"attributes\":{\"children\":[{\"id\":\"1312\"}],\"margin\":[0,0,0,0],\"name\":\"Column01011\"},\"id\":\"1311\",\"type\":\"Column\"},{\"attributes\":{\"height_policy\":\"fit\",\"margin\":[5,10,5,10],\"name\":\"\",\"text\":\"Donald Trump is going to try to delay his presidential announcement. Alyssa thinks it's a good day for him as he's got the momentum he needs and the bases rallied around him. She thinks he's going to argue he's the frontrunner for the presidency and that that legal theory should spill over.\",\"width\":1000},\"id\":\"1312\",\"type\":\"Div\"},{\"attributes\":{\"children\":[{\"id\":\"1285\"},{\"id\":\"1287\"},{\"id\":\"1289\"}],\"margin\":[0,0,0,0],\"name\":\"Row00979\"},\"id\":\"1284\",\"type\":\"Row\"},{\"attributes\":{\"button_type\":\"primary\",\"icon\":null,\"label\":\"525\",\"margin\":[5,10,5,10],\"min_width\":60,\"subscribed_events\":[\"button_click\"],\"width\":60},\"id\":\"1308\",\"type\":\"Button\"},{\"attributes\":{\"children\":[{\"id\":\"1300\"},{\"id\":\"1302\"},{\"id\":\"1304\"}],\"margin\":[0,0,0,0],\"name\":\"Row01001\"},\"id\":\"1299\",\"type\":\"Row\"},{\"attributes\":{\"children\":[{\"id\":\"1305\"}],\"margin\":[0,0,0,0],\"name\":\"Column01000\"},\"id\":\"1304\",\"type\":\"Column\"},{\"attributes\":{\"children\":[{\"id\":\"1301\"}],\"margin\":[0,0,0,0],\"name\":\"Column00998\"},\"id\":\"1300\",\"type\":\"Column\"},{\"attributes\":{\"margin\":[5,5,5,5],\"paused\":true,\"time\":304,\"value\":\"https://github.com/DominicTheAnalyst/Fox-CNN-Analysis/blob/main/FOX_Analysis_FBI_Raid.mp3?raw=true\"},\"id\":\"1295\",\"type\":\"panel.models.widgets.Audio\"},{\"attributes\":{\"margin\":[5,5,5,5],\"paused\":true,\"value\":\"https://github.com/DominicTheAnalyst/Fox-CNN-Analysis/blob/main/FOX_Analysis_FBI_Raid.mp3?raw=true\"},\"id\":\"1288\",\"type\":\"panel.models.widgets.Audio\"}],\"root_ids\":[\"1282\",\"1313\"]},\"title\":\"Bokeh Application\",\"version\":\"2.4.3\"}};\n    var render_items = [{\"docid\":\"0f9cfbd4-ff13-4e69-b4a8-16a28df5bb6d\",\"root_ids\":[\"1282\"],\"roots\":{\"1282\":\"09299d17-6aec-4ed2-b339-1de4540d322e\"}}];\n    root.Bokeh.embed.embed_items_notebook(docs_json, render_items);\n  }\n  if (root.Bokeh !== undefined && root.Bokeh.Panel !== undefined) {\n    embed_document(root);\n  } else {\n    var attempts = 0;\n    var timer = setInterval(function(root) {\n      if (root.Bokeh !== undefined && root.Bokeh.Panel !== undefined) {\n        clearInterval(timer);\n        embed_document(root);\n      } else if (document.readyState == \"complete\") {\n        attempts++;\n        if (attempts > 200) {\n          clearInterval(timer);\n          console.log(\"Bokeh: ERROR: Unable to run BokehJS code because BokehJS library is missing\");\n        }\n      }\n    }, 25, root)\n  }\n})(window);</script>",
      "application/vnd.holoviews_exec.v0+json": "",
      "text/plain": "Column\n    [0] Markdown(str)\n    [1] Row\n        [0] Column\n            [0] Button(button_type='primary', name='0', width=60)\n        [1] Column\n            [0] Audio(str)\n        [2] Column\n            [0] StaticText(height_policy='fit', value='Stephen Miller is a forme..., width=1000)\n    [2] Row\n        [0] Column\n            [0] Button(button_type='primary', name='304', width=60)\n        [1] Column\n            [0] Audio(str, time=304)\n        [2] Column\n            [0] StaticText(height_policy='fit', value=\"Tucker Carlson a..., width=1000)\n    [3] Markdown(str)\n    [4] Row\n        [0] Column\n            [0] Button(button_type='primary', name='0', width=60)\n        [1] Column\n            [0] Audio(str)\n        [2] Column\n            [0] StaticText(height_policy='fit', value='Donald Trump i..., width=1000)\n    [5] Row\n        [0] Column\n            [0] Button(button_type='primary', name='525', width=60)\n        [1] Column\n            [0] Audio(str, time=525)\n        [2] Column\n            [0] StaticText(height_policy='fit', value=\"Donald Trump i..., width=1000)"
     },
     "execution_count": 16,
     "metadata": {
      "application/vnd.holoviews_exec.v0+json": {
       "id": "1282"
      }
     },
     "output_type": "execute_result"
    }
   ],
   "source": [
    "\"\"\"\n",
    "Create layout for audio and descriptions\n",
    "\"\"\"\n",
    "#Create chapter summary headers\n",
    "fox_chapters_layout = pn.Column(pn.pane.Markdown(\"### FOX Audio Auto Chapter Summary\"))\n",
    "cnn_chapters_layout = pn.Column(pn.pane.Markdown(\"### CNN Audio Auto Chapter Summary\"))\n",
    "\n",
    "#FOX layout\n",
    "for fox_chapter in fox_chapters:\n",
    "    fox_chapter_summary = pn.widgets.StaticText(value=fox_chapter['summary'], width=1000, height_policy='fit')\n",
    "    fox_button_audio = ButtonAudio(fox_chapter['start'])\n",
    "    fox_button = fox_button_audio.fox_button\n",
    "    fox_chapter_audio = fox_button_audio.fox_chapter_audio\n",
    "    fox_chapters_layout.append(\n",
    "        pn.Row(pn.Column(fox_button), pn.Column(fox_chapter_audio), pn.Column(fox_chapter_summary)))\n",
    "\n",
    "#CNN layout\n",
    "for cnn_chapter in cnn_chapters:\n",
    "    cnn_chapter_summary = pn.widgets.StaticText(value=cnn_chapter['summary'], width=1000, height_policy='fit')\n",
    "    cnn_button_audio = ButtonAudio(cnn_chapter['start'])\n",
    "    cnn_button = cnn_button_audio.cnn_button\n",
    "    cnn_chapter_audio = cnn_button_audio.cnn_chapter_audio\n",
    "    cnn_chapters_layout.append(\n",
    "        pn.Row(pn.Column(cnn_button), pn.Column(cnn_chapter_audio), pn.Column(cnn_chapter_summary)))\n",
    "\n",
    "layout = fox_chapters_layout + cnn_chapters_layout\n",
    "layout"
   ],
   "metadata": {
    "collapsed": false,
    "pycharm": {
     "name": "#%%\n"
    }
   }
  },
  {
   "cell_type": "code",
   "execution_count": 17,
   "outputs": [
    {
     "data": {},
     "metadata": {},
     "output_type": "display_data"
    },
    {
     "data": {},
     "metadata": {},
     "output_type": "display_data"
    },
    {
     "data": {
      "text/html": "<div id='1314'>\n  <div class=\"bk-root\" id=\"5d85abec-b9f1-45b7-be55-eac36292d881\" data-root-id=\"1314\"></div>\n</div>\n<script type=\"application/javascript\">(function(root) {\n  function embed_document(root) {\n    var docs_json = {\"f14ce9c7-4d6c-4ee2-81b9-3771284c0597\":{\"defs\":[{\"extends\":null,\"module\":null,\"name\":\"ReactiveHTML1\",\"overrides\":[],\"properties\":[]},{\"extends\":null,\"module\":null,\"name\":\"FlexBox1\",\"overrides\":[],\"properties\":[{\"default\":\"flex-start\",\"kind\":null,\"name\":\"align_content\"},{\"default\":\"flex-start\",\"kind\":null,\"name\":\"align_items\"},{\"default\":\"row\",\"kind\":null,\"name\":\"flex_direction\"},{\"default\":\"wrap\",\"kind\":null,\"name\":\"flex_wrap\"},{\"default\":\"flex-start\",\"kind\":null,\"name\":\"justify_content\"}]},{\"extends\":null,\"module\":null,\"name\":\"GridStack1\",\"overrides\":[],\"properties\":[{\"default\":\"warn\",\"kind\":null,\"name\":\"mode\"},{\"default\":null,\"kind\":null,\"name\":\"ncols\"},{\"default\":null,\"kind\":null,\"name\":\"nrows\"},{\"default\":true,\"kind\":null,\"name\":\"allow_resize\"},{\"default\":true,\"kind\":null,\"name\":\"allow_drag\"},{\"default\":[],\"kind\":null,\"name\":\"state\"}]},{\"extends\":null,\"module\":null,\"name\":\"click1\",\"overrides\":[],\"properties\":[{\"default\":\"\",\"kind\":null,\"name\":\"terminal_output\"},{\"default\":\"\",\"kind\":null,\"name\":\"debug_name\"},{\"default\":0,\"kind\":null,\"name\":\"clears\"}]},{\"extends\":null,\"module\":null,\"name\":\"NotificationAreaBase1\",\"overrides\":[],\"properties\":[{\"default\":\"bottom-right\",\"kind\":null,\"name\":\"position\"},{\"default\":0,\"kind\":null,\"name\":\"_clear\"}]},{\"extends\":null,\"module\":null,\"name\":\"NotificationArea1\",\"overrides\":[],\"properties\":[{\"default\":[],\"kind\":null,\"name\":\"notifications\"},{\"default\":\"bottom-right\",\"kind\":null,\"name\":\"position\"},{\"default\":0,\"kind\":null,\"name\":\"_clear\"},{\"default\":[{\"background\":\"#ffc107\",\"icon\":{\"className\":\"fas fa-exclamation-triangle\",\"color\":\"white\",\"tagName\":\"i\"},\"type\":\"warning\"},{\"background\":\"#007bff\",\"icon\":{\"className\":\"fas fa-info-circle\",\"color\":\"white\",\"tagName\":\"i\"},\"type\":\"info\"}],\"kind\":null,\"name\":\"types\"}]},{\"extends\":null,\"module\":null,\"name\":\"Notification\",\"overrides\":[],\"properties\":[{\"default\":null,\"kind\":null,\"name\":\"background\"},{\"default\":3000,\"kind\":null,\"name\":\"duration\"},{\"default\":null,\"kind\":null,\"name\":\"icon\"},{\"default\":\"\",\"kind\":null,\"name\":\"message\"},{\"default\":null,\"kind\":null,\"name\":\"notification_type\"},{\"default\":false,\"kind\":null,\"name\":\"_destroyed\"}]},{\"extends\":null,\"module\":null,\"name\":\"TemplateActions1\",\"overrides\":[],\"properties\":[{\"default\":0,\"kind\":null,\"name\":\"open_modal\"},{\"default\":0,\"kind\":null,\"name\":\"close_modal\"}]},{\"extends\":null,\"module\":null,\"name\":\"MaterialTemplateActions1\",\"overrides\":[],\"properties\":[{\"default\":0,\"kind\":null,\"name\":\"open_modal\"},{\"default\":0,\"kind\":null,\"name\":\"close_modal\"}]}],\"roots\":{\"references\":[{\"attributes\":{},\"id\":\"1377\",\"type\":\"Selection\"},{\"attributes\":{},\"id\":\"1324\",\"type\":\"LinearScale\"},{\"attributes\":{\"bottom_units\":\"screen\",\"coordinates\":null,\"fill_alpha\":0.5,\"fill_color\":\"lightgrey\",\"group\":null,\"left_units\":\"screen\",\"level\":\"overlay\",\"line_alpha\":1.0,\"line_color\":\"black\",\"line_dash\":[4,4],\"line_width\":2,\"right_units\":\"screen\",\"syncable\":false,\"top_units\":\"screen\"},\"id\":\"1341\",\"type\":\"BoxAnnotation\"},{\"attributes\":{\"children\":[{\"id\":\"1319\"}],\"margin\":[0,0,0,0],\"name\":\"Row01154\"},\"id\":\"1314\",\"type\":\"Row\"},{\"attributes\":{\"fill_alpha\":{\"value\":0.1},\"fill_color\":{\"value\":\"#fc4f30\"},\"hatch_alpha\":{\"value\":0.1},\"hatch_color\":{\"value\":\"#fc4f30\"},\"line_alpha\":{\"value\":0.1},\"line_color\":{\"value\":\"#fc4f30\"},\"size\":{\"value\":10.0},\"x\":{\"field\":\"count\"},\"y\":{\"field\":\"rank\"}},\"id\":\"1380\",\"type\":\"Scatter\"},{\"attributes\":{\"data\":{\"count\":[1,1,1,1,2,4,5,5,9,10,1,1,2,2,3,3,4,5,6,6,7],\"rank\":{\"__ndarray__\":\"exSuR+F6pD+amZmZmZmpP7gehetRuK4/exSuR+F6tD+4HoXrUbieP3sUrkfheqQ/uB6F61G4nj97FK5H4XqkP3sUrkfherQ/exSuR+F6pD97FK5H4XqkP5qZmZmZmak/exSuR+F6pD+4HoXrUbiuP5qZmZmZmak/uB6F61G4rj97FK5H4XqkP3sUrkfheqQ/exSuR+F6pD+amZmZmZmpP5qZmZmZmak/\",\"dtype\":\"float64\",\"order\":\"little\",\"shape\":[21]},\"text\":[\"good publicity, \\nhardcore Trump group, \\nclassified document concealing type\",\"Donald Trump's lawyers, \\nvital national security documents\",\"Trump extremists, \\nIvanka Trump, \\nvintage Trump\",\"Donald Trump Jr.\",\"Kevin McCarthy\",\"Merrick Garland\",\"FBI\",\"thing\",\"Donald Trump\",\"DOJ\",\"classified state business, \\nAmerican history\",\"Russian bounties, \\nRussian disinformation\",\"Stephen Miller\",\"President Trump, \\nJoe Biden\",\"Hillary Clinton\",\"Donald Trump\",\"allegation\",\"IRS\",\"power\",\"years, \\npeople\",\"investigation\"]},\"selected\":{\"id\":\"1399\"},\"selection_policy\":{\"id\":\"1418\"}},\"id\":\"1398\",\"type\":\"ColumnDataSource\"},{\"attributes\":{\"text_align\":{\"value\":\"center\"},\"text_alpha\":{\"value\":0.1},\"text_baseline\":{\"value\":\"top\"},\"text_color\":{\"value\":\"black\"},\"x\":{\"field\":\"count\"},\"y\":{\"field\":\"rank\"}},\"id\":\"1402\",\"type\":\"Text\"},{\"attributes\":{\"client_comm_id\":\"f94adef76aeb4c919eb2ca2ea2aaa557\",\"comm_id\":\"e039fb2d953644b6b3488cd929c66818\",\"plot_id\":\"1314\"},\"id\":\"1463\",\"type\":\"panel.models.comm_manager.CommManager\"},{\"attributes\":{\"overlay\":{\"id\":\"1341\"}},\"id\":\"1339\",\"type\":\"BoxZoomTool\"},{\"attributes\":{\"fill_alpha\":{\"value\":0.2},\"fill_color\":{\"value\":\"#fc4f30\"},\"hatch_alpha\":{\"value\":0.2},\"hatch_color\":{\"value\":\"#fc4f30\"},\"line_alpha\":{\"value\":0.2},\"line_color\":{\"value\":\"#fc4f30\"},\"size\":{\"value\":10.0},\"x\":{\"field\":\"count\"},\"y\":{\"field\":\"rank\"}},\"id\":\"1381\",\"type\":\"Scatter\"},{\"attributes\":{\"angle\":{\"value\":0.0},\"fill_alpha\":{\"value\":1.0},\"fill_color\":{\"value\":\"#fc4f30\"},\"hatch_alpha\":{\"value\":1.0},\"hatch_color\":{\"value\":\"#fc4f30\"},\"hatch_scale\":{\"value\":12.0},\"hatch_weight\":{\"value\":1.0},\"line_alpha\":{\"value\":1.0},\"line_cap\":{\"value\":\"butt\"},\"line_color\":{\"value\":\"#fc4f30\"},\"line_dash\":{\"value\":[]},\"line_dash_offset\":{\"value\":0},\"line_join\":{\"value\":\"bevel\"},\"line_width\":{\"value\":1},\"marker\":{\"value\":\"circle\"},\"size\":{\"value\":10.0},\"x\":{\"field\":\"count\"},\"y\":{\"field\":\"rank\"}},\"id\":\"1397\",\"type\":\"Scatter\"},{\"attributes\":{\"tools\":[{\"id\":\"1317\"},{\"id\":\"1336\"},{\"id\":\"1337\"},{\"id\":\"1338\"},{\"id\":\"1339\"},{\"id\":\"1340\"}]},\"id\":\"1342\",\"type\":\"Toolbar\"},{\"attributes\":{\"label\":{\"value\":\"fox\"},\"renderers\":[{\"id\":\"1382\"}]},\"id\":\"1396\",\"type\":\"LegendItem\"},{\"attributes\":{\"end\":11.08,\"reset_end\":11.08,\"reset_start\":-0.08000000000000007,\"start\":-0.08000000000000007,\"tags\":[[[\"count\",\"count\",null]]]},\"id\":\"1315\",\"type\":\"Range1d\"},{\"attributes\":{},\"id\":\"1393\",\"type\":\"UnionRenderers\"},{\"attributes\":{\"end\":0.1,\"reset_end\":0.1,\"reset_start\":0.009999999999999995,\"start\":0.009999999999999995,\"tags\":[[[\"rank\",\"rank\",null]]]},\"id\":\"1316\",\"type\":\"Range1d\"},{\"attributes\":{},\"id\":\"1350\",\"type\":\"BasicTickFormatter\"},{\"attributes\":{\"callback\":null,\"renderers\":[{\"id\":\"1361\"},{\"id\":\"1382\"}],\"tags\":[\"hv_created\"],\"tooltips\":[[\"dataset\",\"@{dataset}\"],[\"count\",\"@{count}\"],[\"rank\",\"@{rank}\"],[\"index\",\"@{index}\"],[\"text\",\"@{text}\"]]},\"id\":\"1317\",\"type\":\"HoverTool\"},{\"attributes\":{\"coordinates\":null,\"data_source\":{\"id\":\"1398\"},\"glyph\":{\"id\":\"1401\"},\"group\":null,\"hover_glyph\":null,\"muted_glyph\":{\"id\":\"1403\"},\"nonselection_glyph\":{\"id\":\"1402\"},\"selection_glyph\":{\"id\":\"1406\"},\"view\":{\"id\":\"1405\"}},\"id\":\"1404\",\"type\":\"GlyphRenderer\"},{\"attributes\":{\"coordinates\":null,\"data_source\":{\"id\":\"1355\"},\"glyph\":{\"id\":\"1358\"},\"group\":null,\"hover_glyph\":null,\"muted_glyph\":{\"id\":\"1360\"},\"nonselection_glyph\":{\"id\":\"1359\"},\"selection_glyph\":{\"id\":\"1375\"},\"view\":{\"id\":\"1362\"}},\"id\":\"1361\",\"type\":\"GlyphRenderer\"},{\"attributes\":{},\"id\":\"1353\",\"type\":\"BasicTickFormatter\"},{\"attributes\":{},\"id\":\"1354\",\"type\":\"AllLabels\"},{\"attributes\":{\"fill_alpha\":{\"value\":0.1},\"fill_color\":{\"value\":\"#30a2da\"},\"hatch_alpha\":{\"value\":0.1},\"hatch_color\":{\"value\":\"#30a2da\"},\"line_alpha\":{\"value\":0.1},\"line_color\":{\"value\":\"#30a2da\"},\"size\":{\"value\":10.0},\"x\":{\"field\":\"count\"},\"y\":{\"field\":\"rank\"}},\"id\":\"1359\",\"type\":\"Scatter\"},{\"attributes\":{\"text_align\":{\"value\":\"center\"},\"text_baseline\":{\"value\":\"top\"},\"text_color\":{\"value\":\"black\"},\"x\":{\"field\":\"count\"},\"y\":{\"field\":\"rank\"}},\"id\":\"1401\",\"type\":\"Text\"},{\"attributes\":{},\"id\":\"1370\",\"type\":\"UnionRenderers\"},{\"attributes\":{},\"id\":\"1418\",\"type\":\"UnionRenderers\"},{\"attributes\":{\"coordinates\":null,\"data_source\":{\"id\":\"1376\"},\"glyph\":{\"id\":\"1379\"},\"group\":null,\"hover_glyph\":null,\"muted_glyph\":{\"id\":\"1381\"},\"nonselection_glyph\":{\"id\":\"1380\"},\"selection_glyph\":{\"id\":\"1397\"},\"view\":{\"id\":\"1383\"}},\"id\":\"1382\",\"type\":\"GlyphRenderer\"},{\"attributes\":{\"coordinates\":null,\"group\":null,\"text\":\"Freq of Auto Highlighted Words\",\"text_color\":\"black\",\"text_font_size\":\"12pt\"},\"id\":\"1320\",\"type\":\"Title\"},{\"attributes\":{\"angle\":{\"value\":0.0},\"fill_alpha\":{\"value\":1.0},\"fill_color\":{\"value\":\"#30a2da\"},\"hatch_alpha\":{\"value\":1.0},\"hatch_color\":{\"value\":\"#30a2da\"},\"hatch_scale\":{\"value\":12.0},\"hatch_weight\":{\"value\":1.0},\"line_alpha\":{\"value\":1.0},\"line_cap\":{\"value\":\"butt\"},\"line_color\":{\"value\":\"#30a2da\"},\"line_dash\":{\"value\":[]},\"line_dash_offset\":{\"value\":0},\"line_join\":{\"value\":\"bevel\"},\"line_width\":{\"value\":1},\"marker\":{\"value\":\"circle\"},\"size\":{\"value\":10.0},\"x\":{\"field\":\"count\"},\"y\":{\"field\":\"rank\"}},\"id\":\"1375\",\"type\":\"Scatter\"},{\"attributes\":{\"source\":{\"id\":\"1398\"}},\"id\":\"1405\",\"type\":\"CDSView\"},{\"attributes\":{\"below\":[{\"id\":\"1328\"}],\"center\":[{\"id\":\"1331\"},{\"id\":\"1335\"}],\"left\":[{\"id\":\"1332\"}],\"margin\":[5,5,5,5],\"min_border_bottom\":10,\"min_border_left\":10,\"min_border_right\":10,\"min_border_top\":10,\"renderers\":[{\"id\":\"1361\"},{\"id\":\"1382\"},{\"id\":\"1404\"}],\"right\":[{\"id\":\"1373\"}],\"sizing_mode\":\"fixed\",\"title\":{\"id\":\"1320\"},\"toolbar\":{\"id\":\"1342\"},\"width\":2000,\"x_range\":{\"id\":\"1315\"},\"x_scale\":{\"id\":\"1324\"},\"y_range\":{\"id\":\"1316\"},\"y_scale\":{\"id\":\"1326\"}},\"id\":\"1319\",\"subtype\":\"Figure\",\"type\":\"Plot\"},{\"attributes\":{\"axis_label\":\"count\",\"coordinates\":null,\"formatter\":{\"id\":\"1350\"},\"group\":null,\"major_label_policy\":{\"id\":\"1351\"},\"ticker\":{\"id\":\"1329\"}},\"id\":\"1328\",\"type\":\"LinearAxis\"},{\"attributes\":{},\"id\":\"1337\",\"type\":\"PanTool\"},{\"attributes\":{\"angle\":{\"value\":0},\"text\":{\"field\":\"text\"},\"text_align\":{\"value\":\"center\"},\"text_alpha\":{\"value\":1.0},\"text_baseline\":{\"value\":\"top\"},\"text_color\":{\"value\":\"black\"},\"text_font_style\":{\"value\":\"normal\"},\"text_line_height\":{\"value\":1.2},\"x\":{\"field\":\"count\"},\"x_offset\":{\"value\":0},\"y\":{\"field\":\"rank\"},\"y_offset\":{\"value\":0}},\"id\":\"1406\",\"type\":\"Text\"},{\"attributes\":{\"axis\":{\"id\":\"1328\"},\"coordinates\":null,\"grid_line_color\":null,\"group\":null,\"ticker\":null},\"id\":\"1331\",\"type\":\"Grid\"},{\"attributes\":{\"source\":{\"id\":\"1376\"}},\"id\":\"1383\",\"type\":\"CDSView\"},{\"attributes\":{\"fill_color\":{\"value\":\"#fc4f30\"},\"hatch_color\":{\"value\":\"#fc4f30\"},\"line_color\":{\"value\":\"#fc4f30\"},\"size\":{\"value\":10.0},\"x\":{\"field\":\"count\"},\"y\":{\"field\":\"rank\"}},\"id\":\"1379\",\"type\":\"Scatter\"},{\"attributes\":{},\"id\":\"1329\",\"type\":\"BasicTicker\"},{\"attributes\":{},\"id\":\"1326\",\"type\":\"LinearScale\"},{\"attributes\":{\"fill_color\":{\"value\":\"#30a2da\"},\"hatch_color\":{\"value\":\"#30a2da\"},\"line_color\":{\"value\":\"#30a2da\"},\"size\":{\"value\":10.0},\"x\":{\"field\":\"count\"},\"y\":{\"field\":\"rank\"}},\"id\":\"1358\",\"type\":\"Scatter\"},{\"attributes\":{\"axis_label\":\"rank\",\"coordinates\":null,\"formatter\":{\"id\":\"1353\"},\"group\":null,\"major_label_policy\":{\"id\":\"1354\"},\"ticker\":{\"id\":\"1333\"}},\"id\":\"1332\",\"type\":\"LinearAxis\"},{\"attributes\":{\"axis\":{\"id\":\"1332\"},\"coordinates\":null,\"dimension\":1,\"grid_line_color\":null,\"group\":null,\"ticker\":null},\"id\":\"1335\",\"type\":\"Grid\"},{\"attributes\":{\"fill_alpha\":{\"value\":0.2},\"fill_color\":{\"value\":\"#30a2da\"},\"hatch_alpha\":{\"value\":0.2},\"hatch_color\":{\"value\":\"#30a2da\"},\"line_alpha\":{\"value\":0.2},\"line_color\":{\"value\":\"#30a2da\"},\"size\":{\"value\":10.0},\"x\":{\"field\":\"count\"},\"y\":{\"field\":\"rank\"}},\"id\":\"1360\",\"type\":\"Scatter\"},{\"attributes\":{},\"id\":\"1333\",\"type\":\"BasicTicker\"},{\"attributes\":{},\"id\":\"1338\",\"type\":\"WheelZoomTool\"},{\"attributes\":{\"data\":{\"count\":[1,1,2,2,3,3,4,5,6,6,7],\"dataset\":[\"fox\",\"fox\",\"fox\",\"fox\",\"fox\",\"fox\",\"fox\",\"fox\",\"fox\",\"fox\",\"fox\"],\"index\":[10,11,12,13,14,15,16,17,18,19,20],\"rank\":{\"__ndarray__\":\"exSuR+F6pD+amZmZmZmpP3sUrkfheqQ/uB6F61G4rj+amZmZmZmpP7gehetRuK4/exSuR+F6pD97FK5H4XqkP3sUrkfheqQ/mpmZmZmZqT+amZmZmZmpPw==\",\"dtype\":\"float64\",\"order\":\"little\",\"shape\":[11]},\"text\":[\"classified state business, \\nAmerican history\",\"Russian bounties, \\nRussian disinformation\",\"Stephen Miller\",\"President Trump, \\nJoe Biden\",\"Hillary Clinton\",\"Donald Trump\",\"allegation\",\"IRS\",\"power\",\"years, \\npeople\",\"investigation\"]},\"selected\":{\"id\":\"1377\"},\"selection_policy\":{\"id\":\"1393\"}},\"id\":\"1376\",\"type\":\"ColumnDataSource\"},{\"attributes\":{\"label\":{\"value\":\"cnn\"},\"renderers\":[{\"id\":\"1361\"}]},\"id\":\"1374\",\"type\":\"LegendItem\"},{\"attributes\":{},\"id\":\"1399\",\"type\":\"Selection\"},{\"attributes\":{},\"id\":\"1336\",\"type\":\"SaveTool\"},{\"attributes\":{\"source\":{\"id\":\"1355\"}},\"id\":\"1362\",\"type\":\"CDSView\"},{\"attributes\":{\"text_align\":{\"value\":\"center\"},\"text_alpha\":{\"value\":0.2},\"text_baseline\":{\"value\":\"top\"},\"text_color\":{\"value\":\"black\"},\"x\":{\"field\":\"count\"},\"y\":{\"field\":\"rank\"}},\"id\":\"1403\",\"type\":\"Text\"},{\"attributes\":{},\"id\":\"1351\",\"type\":\"AllLabels\"},{\"attributes\":{\"data\":{\"count\":[1,1,1,1,2,4,5,5,9,10],\"dataset\":[\"cnn\",\"cnn\",\"cnn\",\"cnn\",\"cnn\",\"cnn\",\"cnn\",\"cnn\",\"cnn\",\"cnn\"],\"index\":[0,1,2,3,4,5,6,7,8,9],\"rank\":{\"__ndarray__\":\"exSuR+F6pD+amZmZmZmpP7gehetRuK4/exSuR+F6tD+4HoXrUbieP3sUrkfheqQ/uB6F61G4nj97FK5H4XqkP3sUrkfherQ/exSuR+F6pD8=\",\"dtype\":\"float64\",\"order\":\"little\",\"shape\":[10]},\"text\":[\"good publicity, \\nhardcore Trump group, \\nclassified document concealing type\",\"Donald Trump's lawyers, \\nvital national security documents\",\"Trump extremists, \\nIvanka Trump, \\nvintage Trump\",\"Donald Trump Jr.\",\"Kevin McCarthy\",\"Merrick Garland\",\"FBI\",\"thing\",\"Donald Trump\",\"DOJ\"]},\"selected\":{\"id\":\"1356\"},\"selection_policy\":{\"id\":\"1370\"}},\"id\":\"1355\",\"type\":\"ColumnDataSource\"},{\"attributes\":{},\"id\":\"1356\",\"type\":\"Selection\"},{\"attributes\":{},\"id\":\"1340\",\"type\":\"ResetTool\"},{\"attributes\":{\"click_policy\":\"mute\",\"coordinates\":null,\"group\":null,\"items\":[{\"id\":\"1374\"},{\"id\":\"1396\"}],\"location\":[0,0]},\"id\":\"1373\",\"type\":\"Legend\"}],\"root_ids\":[\"1314\",\"1463\"]},\"title\":\"Bokeh Application\",\"version\":\"2.4.3\"}};\n    var render_items = [{\"docid\":\"f14ce9c7-4d6c-4ee2-81b9-3771284c0597\",\"root_ids\":[\"1314\"],\"roots\":{\"1314\":\"5d85abec-b9f1-45b7-be55-eac36292d881\"}}];\n    root.Bokeh.embed.embed_items_notebook(docs_json, render_items);\n  }\n  if (root.Bokeh !== undefined && root.Bokeh.Panel !== undefined) {\n    embed_document(root);\n  } else {\n    var attempts = 0;\n    var timer = setInterval(function(root) {\n      if (root.Bokeh !== undefined && root.Bokeh.Panel !== undefined) {\n        clearInterval(timer);\n        embed_document(root);\n      } else if (document.readyState == \"complete\") {\n        attempts++;\n        if (attempts > 200) {\n          clearInterval(timer);\n          console.log(\"Bokeh: ERROR: Unable to run BokehJS code because BokehJS library is missing\");\n        }\n      }\n    }, 25, root)\n  }\n})(window);</script>",
      "application/vnd.holoviews_exec.v0+json": "",
      "text/plain": "Row\n    [0] HoloViews(Overlay)"
     },
     "execution_count": 17,
     "metadata": {
      "application/vnd.holoviews_exec.v0+json": {
       "id": "1314"
      }
     },
     "output_type": "execute_result"
    }
   ],
   "source": [
    "\"\"\"\n",
    "Making highlights scatter plot\n",
    "\"\"\"\n",
    "#FOX df\n",
    "fox_highlights = fox_data['auto_highlights_result']['results']\n",
    "fox_highlights_df = pd.DataFrame(fox_highlights)\n",
    "fox_highlights_df = fox_highlights_df.assign(dataset='fox')\n",
    "\n",
    "#CNN df\n",
    "cnn_highlights = cnn_data['auto_highlights_result']['results']\n",
    "cnn_highlights_df = pd.DataFrame(cnn_highlights)\n",
    "cnn_highlights_df = cnn_highlights_df.assign(dataset='cnn')\n",
    "\n",
    "#Concat into one\n",
    "grouped_highlights_df = pd.concat([fox_highlights_df, cnn_highlights_df])\n",
    "\n",
    "#Group by\n",
    "grouped_highlights_df = grouped_highlights_df.groupby(['dataset', 'count', 'rank'])['text'].apply(\n",
    "    ', \\n'.join).reset_index()\n",
    "grouped_highlights_df\n",
    "\n",
    "#Scatter plot\n",
    "highlights_plot = grouped_highlights_df.hvplot.points(x='count', y='rank', padding=0.4, hover_cols='all',\n",
    "                                                      width=2000, height=600, size=100,\n",
    "                                                      title='Freq of Auto Highlighted Words', cmap=['red', 'blue'],\n",
    "                                                      by='dataset') * \\\n",
    "                  grouped_highlights_df.hvplot.labels(x='count', y='rank', text='text', text_baseline='top',\n",
    "                                                      hover=False)\n",
    "pn.Row(highlights_plot)"
   ],
   "metadata": {
    "collapsed": false,
    "pycharm": {
     "name": "#%%\n"
    }
   }
  },
  {
   "cell_type": "code",
   "execution_count": 18,
   "outputs": [
    {
     "name": "stderr",
     "output_type": "stream",
     "text": [
      "WARNING:param.Row01312: Setting non-parameter attribute title=Automatic Highlights using a mechanism intended only for parameters\n"
     ]
    },
    {
     "name": "stdout",
     "output_type": "stream",
     "text": [
      "Launching server at http://localhost:59009\n"
     ]
    },
    {
     "data": {
      "text/plain": "<bokeh.server.server.Server at 0x2950adb2b00>"
     },
     "execution_count": 18,
     "metadata": {},
     "output_type": "execute_result"
    }
   ],
   "source": [
    "\"\"\"\n",
    "Creating dashboard\n",
    "\"\"\"\n",
    "#Dashboard\n",
    "dashboard = pn.template.FastListTemplate(\n",
    "    title='FOX vs CNN Audio Content Explorer on Trump FBI Raid 2022',\n",
    "    sidebar=[\n",
    "        pn.pane.Markdown('# Explore Audio Content'),\n",
    "        pn.pane.Markdown(\n",
    "            '### This app analyzes the content of your audio file, including sentiment, wordcloud, automatic content summary and highlights using AssemblyAI API.'),\n",
    "        pn.pane.Markdown(\n",
    "            '### This example is based on the audio content of FOX and CNN reaction of Trump being raided by the FBI.'),\n",
    "        pn.pane.Markdown(\n",
    "            '### [Link to Fox video!](https://www.foxnews.com/media/fbi-raid-on-trumps-mar-a-lago-celebrated-leftists-beautiful-raid)    [Link to CNN video!](https://www.youtube.com/watch?v=62Z4MnFIifY&t=1s)'),\n",
    "        pn.pane.Markdown('### Download Audio Transcripts:'),\n",
    "        fox_transcript_download,\n",
    "        cnn_transcript_download\n",
    "    ],\n",
    "    main=[\n",
    "        pn.Row(\n",
    "            pn.Column(sentiment_tabs)\n",
    "        ),\n",
    "        pn.Row(\n",
    "            pn.Column(\n",
    "                pn.pane.Markdown('# FOX WordCloud on Speech Content'),\n",
    "                #pn.Row(controller1.param.fox_word_slider),\n",
    "                #pn.Row(update_fox_wordcloud, title=\"FOX WordCloud on Speech Content\")\n",
    "            ),\n",
    "            pn.Column(\n",
    "                pn.pane.Markdown('# CNN WordCloud on Speech Content'),\n",
    "                #pn.Row(controller2.param.cnn_word_slider),\n",
    "                #pn.Row(update_cnn_wordcloud, title=\"CNN WordCloud on Speech Content\")\n",
    "            )\n",
    "        ),\n",
    "        pn.Row(layout),\n",
    "        pn.Row(highlights_plot, title='Automatic Highlights')\n",
    "    ],\n",
    "    accent_base_color=\"#667b92\",\n",
    "    header_background=\"#e3e0cf\"\n",
    ")\n",
    "dashboard.show()"
   ],
   "metadata": {
    "collapsed": false,
    "pycharm": {
     "name": "#%%\n"
    }
   }
  },
  {
   "cell_type": "code",
   "execution_count": null,
   "outputs": [],
   "source": [],
   "metadata": {
    "collapsed": false,
    "pycharm": {
     "name": "#%%\n"
    }
   }
  }
 ],
 "metadata": {
  "kernelspec": {
   "display_name": "Python 3",
   "language": "python",
   "name": "python3"
  },
  "language_info": {
   "codemirror_mode": {
    "name": "ipython",
    "version": 2
   },
   "file_extension": ".py",
   "mimetype": "text/x-python",
   "name": "python",
   "nbconvert_exporter": "python",
   "pygments_lexer": "ipython2",
   "version": "2.7.6"
  }
 },
 "nbformat": 4,
 "nbformat_minor": 0
}